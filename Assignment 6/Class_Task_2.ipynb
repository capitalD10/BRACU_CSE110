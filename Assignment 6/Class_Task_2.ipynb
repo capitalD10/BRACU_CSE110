{
  "nbformat": 4,
  "nbformat_minor": 0,
  "metadata": {
    "colab": {
      "provenance": []
    },
    "kernelspec": {
      "name": "python3",
      "display_name": "Python 3"
    },
    "language_info": {
      "name": "python"
    }
  },
  "cells": [
    {
      "cell_type": "code",
      "source": [
        "text_input = input()\n",
        "modified_input = text_input[1:len(text_input)-1]\n",
        "list1 = modified_input.split(\", \")\n",
        "reverse_list1 = []\n",
        "for x in range(len(list1)):\n",
        "  reverse_list1.append(list1[len(list1) - x - 1])\n",
        "print(reverse_list1)"
      ],
      "metadata": {
        "colab": {
          "base_uri": "https://localhost:8080/"
        },
        "id": "KuTXjx26kK9Y",
        "outputId": "d525b484-1741-4a6f-a12c-0ed46e784e95"
      },
      "execution_count": 84,
      "outputs": [
        {
          "output_type": "stream",
          "name": "stdout",
          "text": [
            "[5, -5, 100, 1, 0]\n",
            "['0', '1', '100', '-5', '5']\n"
          ]
        }
      ]
    }
  ]
}