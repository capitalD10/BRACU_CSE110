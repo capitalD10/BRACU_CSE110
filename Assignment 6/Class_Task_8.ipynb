{
  "nbformat": 4,
  "nbformat_minor": 0,
  "metadata": {
    "colab": {
      "provenance": []
    },
    "kernelspec": {
      "name": "python3",
      "display_name": "Python 3"
    },
    "language_info": {
      "name": "python"
    }
  },
  "cells": [
    {
      "cell_type": "code",
      "source": [
        "new = \"\"\n",
        "temp_list = []\n",
        "nested_list = []\n",
        "for x in range(5):\n",
        "  inp = input()\n",
        "  for y in range(len(inp)):\n",
        "    if inp[y] == \",\":\n",
        "      temp_list.append(str(new))\n",
        "      new = \"\"\n",
        "    elif inp[y] == \".\":\n",
        "      new += inp[y]\n",
        "    elif inp[y] == \"]\":\n",
        "      temp_list.append(float(new))\n",
        "      new = \"\"\n",
        "    elif inp[y] == \" \" or inp[y] == \"[\":\n",
        "      continue\n",
        "    else:\n",
        "      new += inp[y]\n",
        "  nested_list.append(temp_list)\n",
        "  temp_list = []\n",
        "  print(nested_list)"
      ],
      "metadata": {
        "colab": {
          "base_uri": "https://localhost:8080/"
        },
        "id": "KuTXjx26kK9Y",
        "outputId": "27122111-da9d-4cb6-f928-93e030abfaa3"
      },
      "execution_count": 91,
      "outputs": [
        {
          "output_type": "stream",
          "name": "stdout",
          "text": [
            "[arif,3.7]\n",
            "[['arif', 3.7]]\n",
            "[syed,4.0]\n",
            "[['arif', 3.7], ['syed', 4.0]]\n",
            "[rafin,3.3]\n",
            "[['arif', 3.7], ['syed', 4.0], ['rafin', 3.3]]\n",
            "[nuha,3.7]\n",
            "[['arif', 3.7], ['syed', 4.0], ['rafin', 3.3], ['nuha', 3.7]]\n",
            "[safi,3.0]\n",
            "[['arif', 3.7], ['syed', 4.0], ['rafin', 3.3], ['nuha', 3.7], ['safi', 3.0]]\n"
          ]
        }
      ]
    }
  ]
}