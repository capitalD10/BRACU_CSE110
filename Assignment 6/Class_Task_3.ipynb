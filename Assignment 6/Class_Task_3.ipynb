{
  "nbformat": 4,
  "nbformat_minor": 0,
  "metadata": {
    "colab": {
      "provenance": []
    },
    "kernelspec": {
      "name": "python3",
      "display_name": "Python 3"
    },
    "language_info": {
      "name": "python"
    }
  },
  "cells": [
    {
      "cell_type": "code",
      "source": [
        "inp = input()\n",
        "list1 = []\n",
        "new = \"\"\n",
        "for x in range(len(inp)):\n",
        "  if inp[x] == \",\":\n",
        "    list1.append(new)\n",
        "    new = \"\"\n",
        "  elif inp[x] == \" \":\n",
        "    continue\n",
        "  else:\n",
        "    new += inp[x]\n",
        "list1.append(new)\n",
        "\n",
        "if len(list1) >= 4:\n",
        "  print(list1[2:-2])\n",
        "else:\n",
        "  print(\"Not possible\")"
      ],
      "metadata": {
        "colab": {
          "base_uri": "https://localhost:8080/"
        },
        "id": "KuTXjx26kK9Y",
        "outputId": "99446e4e-d69f-482c-b74c-4f0ced40571d"
      },
      "execution_count": 86,
      "outputs": [
        {
          "output_type": "stream",
          "name": "stdout",
          "text": [
            "10, 20, 24, 25, 26, 35, 70\n",
            "['24', '25', '26']\n"
          ]
        }
      ]
    }
  ]
}