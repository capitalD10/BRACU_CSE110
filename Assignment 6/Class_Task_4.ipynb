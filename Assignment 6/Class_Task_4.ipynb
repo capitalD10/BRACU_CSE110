{
  "nbformat": 4,
  "nbformat_minor": 0,
  "metadata": {
    "colab": {
      "provenance": []
    },
    "kernelspec": {
      "name": "python3",
      "display_name": "Python 3"
    },
    "language_info": {
      "name": "python"
    }
  },
  "cells": [
    {
      "cell_type": "code",
      "source": [
        "List_one = [1, 4, 3, 2, 5]\n",
        "List_two = [8, 7, 6, 9]\n",
        "\n",
        "flag = False\n",
        "for x in List_one:\n",
        "  for y in List_two:\n",
        "    if x == y:\n",
        "      flag = True\n",
        "      print(flag)\n",
        "      break\n",
        "if flag == False:\n",
        "  print(flag)"
      ],
      "metadata": {
        "colab": {
          "base_uri": "https://localhost:8080/"
        },
        "id": "KuTXjx26kK9Y",
        "outputId": "02bb3600-9ff5-48d9-e0ce-700343fb2e2b"
      },
      "execution_count": 87,
      "outputs": [
        {
          "output_type": "stream",
          "name": "stdout",
          "text": [
            "False\n"
          ]
        }
      ]
    }
  ]
}