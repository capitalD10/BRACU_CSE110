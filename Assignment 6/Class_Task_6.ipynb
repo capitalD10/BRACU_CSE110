{
  "nbformat": 4,
  "nbformat_minor": 0,
  "metadata": {
    "colab": {
      "provenance": []
    },
    "kernelspec": {
      "name": "python3",
      "display_name": "Python 3"
    },
    "language_info": {
      "name": "python"
    }
  },
  "cells": [
    {
      "cell_type": "code",
      "source": [
        "list1 = [1, 2, 3, 4, 5, 6, 7, 8, 9]\n",
        "list2 = [10, 11, 12, -13, -14, -15,-16]\n",
        "final_list = []\n",
        "\n",
        "for x in list1:\n",
        "  if x % 2 == 0:\n",
        "    final_list.append(x)\n",
        "  else:\n",
        "    continue\n",
        "for y in list2:\n",
        "  if y % 2 == 0:\n",
        "    final_list.append(y)\n",
        "  else:\n",
        "    continue\n",
        "print(final_list)"
      ],
      "metadata": {
        "colab": {
          "base_uri": "https://localhost:8080/"
        },
        "id": "KuTXjx26kK9Y",
        "outputId": "986b4f3d-5849-488e-9f82-eb8e831f7a5d"
      },
      "execution_count": 89,
      "outputs": [
        {
          "output_type": "stream",
          "name": "stdout",
          "text": [
            "[2, 4, 6, 8, 10, 12, -14, -16]\n"
          ]
        }
      ]
    }
  ]
}