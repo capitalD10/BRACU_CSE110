{
  "nbformat": 4,
  "nbformat_minor": 0,
  "metadata": {
    "colab": {
      "provenance": []
    },
    "kernelspec": {
      "name": "python3",
      "display_name": "Python 3"
    },
    "language_info": {
      "name": "python"
    }
  },
  "cells": [
    {
      "cell_type": "code",
      "source": [
        "list1 = []\n",
        "for x in range(5):\n",
        "  inp = int(input())\n",
        "  list1.append(inp)\n",
        "  print(list1)"
      ],
      "metadata": {
        "colab": {
          "base_uri": "https://localhost:8080/"
        },
        "id": "KuTXjx26kK9Y",
        "outputId": "2ea29a98-1495-47d8-b43c-cebd22bdccf8"
      },
      "execution_count": 83,
      "outputs": [
        {
          "output_type": "stream",
          "name": "stdout",
          "text": [
            "5\n",
            "[5]\n",
            "4\n",
            "[5, 4]\n",
            "3\n",
            "[5, 4, 3]\n",
            "2\n",
            "[5, 4, 3, 2]\n",
            "1\n",
            "[5, 4, 3, 2, 1]\n"
          ]
        }
      ]
    }
  ]
}