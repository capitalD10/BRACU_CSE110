{
  "nbformat": 4,
  "nbformat_minor": 0,
  "metadata": {
    "colab": {
      "provenance": []
    },
    "kernelspec": {
      "name": "python3",
      "display_name": "Python 3"
    },
    "language_info": {
      "name": "python"
    }
  },
  "cells": [
    {
      "cell_type": "code",
      "source": [
        "def nested_to_linear(the_list):\n",
        "  linear_list = []\n",
        "  for element in the_list:\n",
        "    if isinstance(element, list):\n",
        "      linear_list = linear_list + nested_to_linear(element)\n",
        "    else:\n",
        "      linear_list.append(element)\n",
        "  return linear_list\n",
        "nested_to_linear([\"start\", 10, [4, 2, [11, [9, \"mid\", 3, [1, 0], 6]], 8], \"Done\"])"
      ],
      "metadata": {
        "colab": {
          "base_uri": "https://localhost:8080/"
        },
        "id": "KuTXjx26kK9Y",
        "outputId": "355db250-f094-4336-beb0-35edc5c0a038"
      },
      "execution_count": 90,
      "outputs": [
        {
          "output_type": "execute_result",
          "data": {
            "text/plain": [
              "['start', 10, 4, 2, 11, 9, 'mid', 3, 1, 0, 6, 8, 'Done']"
            ]
          },
          "metadata": {},
          "execution_count": 90
        }
      ]
    }
  ]
}