{
  "nbformat": 4,
  "nbformat_minor": 0,
  "metadata": {
    "colab": {
      "provenance": []
    },
    "kernelspec": {
      "name": "python3",
      "display_name": "Python 3"
    },
    "language_info": {
      "name": "python"
    }
  },
  "cells": [
    {
      "cell_type": "code",
      "execution_count": null,
      "metadata": {
        "id": "llFi1AM4UXMy"
      },
      "outputs": [],
      "source": [
        "choco1 = int(input(\"Total chocolates: \"))\n",
        "choco2 = choco1 / 3\n",
        "choco3 = choco1 % 3\n",
        "\n",
        "print(\"Each friend will receive\", int(choco2), \"chocolates\")\n",
        "print(\"The number of remaining chocolates is\", choco3)"
      ]
    }
  ]
}