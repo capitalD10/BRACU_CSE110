{
  "nbformat": 4,
  "nbformat_minor": 0,
  "metadata": {
    "colab": {
      "provenance": []
    },
    "kernelspec": {
      "name": "python3",
      "display_name": "Python 3"
    },
    "language_info": {
      "name": "python"
    }
  },
  "cells": [
    {
      "cell_type": "code",
      "execution_count": null,
      "metadata": {
        "id": "Awll4srWRToB"
      },
      "outputs": [],
      "source": [
        "#1.1\n",
        "\n",
        "x = input(\"First number: \")\n",
        "print(x)\n",
        "\n",
        "y = input(\"Second number: \")\n",
        "print(y)"
      ]
    },
    {
      "cell_type": "code",
      "source": [
        "#1.2\n",
        "\n",
        "x = int(input(\"First number: \"))\n",
        "y = int(input(\"Second number: \"))\n",
        "\n",
        "print(f\"The summation will be: {x+y}\")\n",
        "\n",
        "print(f\"The multiplication will be: {x*y}\")"
      ],
      "metadata": {
        "id": "JWqFL4mtRf3Z"
      },
      "execution_count": null,
      "outputs": []
    },
    {
      "cell_type": "code",
      "source": [
        "#1.3\n",
        "\n",
        "x = int(input(\"Integer: \"))\n",
        "y = float(input(\"Float: \"))\n",
        "\n",
        "print(f\"Addition of the numbers: {x+y}\")\n",
        "print(f\"Subtraction of the numbers: {x-y}\")"
      ],
      "metadata": {
        "id": "IOL6Gjv3Ritw"
      },
      "execution_count": null,
      "outputs": []
    },
    {
      "cell_type": "code",
      "source": [
        "#1.4\n",
        "\n",
        "x = int(input(\"First integer: \"))\n",
        "y = int(input(\"Second integer: \"))\n",
        "\n",
        "x = str(x)\n",
        "y = float(y)\n",
        "\n",
        "y = str(y)\n",
        "\n",
        "print(x+y)"
      ],
      "metadata": {
        "id": "OSO2uS_sRmxI"
      },
      "execution_count": null,
      "outputs": []
    }
  ]
}