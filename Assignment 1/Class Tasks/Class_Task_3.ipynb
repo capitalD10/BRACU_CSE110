{
  "nbformat": 4,
  "nbformat_minor": 0,
  "metadata": {
    "colab": {
      "provenance": []
    },
    "kernelspec": {
      "name": "python3",
      "display_name": "Python 3"
    },
    "language_info": {
      "name": "python"
    }
  },
  "cells": [
    {
      "cell_type": "code",
      "execution_count": null,
      "metadata": {
        "id": "llFi1AM4UXMy"
      },
      "outputs": [],
      "source": [
        "x = int(input(\"Weight: \"))\n",
        "y = x % 4\n",
        "z = x - y\n",
        "\n",
        "print(z)"
      ]
    }
  ]
}