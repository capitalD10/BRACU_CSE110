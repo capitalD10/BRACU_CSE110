{
  "nbformat": 4,
  "nbformat_minor": 0,
  "metadata": {
    "colab": {
      "provenance": []
    },
    "kernelspec": {
      "name": "python3",
      "display_name": "Python 3"
    },
    "language_info": {
      "name": "python"
    }
  },
  "cells": [
    {
      "cell_type": "code",
      "execution_count": null,
      "metadata": {
        "id": "llFi1AM4UXMy"
      },
      "outputs": [],
      "source": [
        "a = int(input(\"First integer: \"))\n",
        "b = int(input(\"Second integer: \"))\n",
        "c = int(input(\"Third integer: \"))\n",
        "d = float(input(\"Float number: \"))\n",
        "\n",
        "x = a**c + (2*b) * (a//2) - d/3\n",
        "x = int(x)\n",
        "\n",
        "print(x)"
      ]
    }
  ]
}