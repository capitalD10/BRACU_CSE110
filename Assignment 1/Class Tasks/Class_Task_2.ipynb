{
  "nbformat": 4,
  "nbformat_minor": 0,
  "metadata": {
    "colab": {
      "provenance": []
    },
    "kernelspec": {
      "name": "python3",
      "display_name": "Python 3"
    },
    "language_info": {
      "name": "python"
    }
  },
  "cells": [
    {
      "cell_type": "code",
      "execution_count": null,
      "metadata": {
        "id": "Rpd2gQSnUG9I"
      },
      "outputs": [],
      "source": [
        "x = int(input(\"X: \"))\n",
        "y = int(input(\"Y: \"))\n",
        "\n",
        "z = x**y\n",
        "\n",
        "print(\"X^Y: \", z)"
      ]
    }
  ]
}