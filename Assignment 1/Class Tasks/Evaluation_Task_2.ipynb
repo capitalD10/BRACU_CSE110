{
  "nbformat": 4,
  "nbformat_minor": 0,
  "metadata": {
    "colab": {
      "provenance": []
    },
    "kernelspec": {
      "name": "python3",
      "display_name": "Python 3"
    },
    "language_info": {
      "name": "python"
    }
  },
  "cells": [
    {
      "cell_type": "code",
      "execution_count": null,
      "metadata": {
        "id": "llFi1AM4UXMy"
      },
      "outputs": [],
      "source": [
        "name1 = str(input(\"First name: \"))\n",
        "name2 = str(input(\"Last name: \"))\n",
        "name2 = \"Rahman\"\n",
        "age = int(input(\"Age: \"))\n",
        "age = age - 2\n",
        "cgpa = float(input(\"CGPA: \"))\n",
        "cgpa = cgpa + 0.25\n",
        "\n",
        "print(\"Name: \", name1 + \" \" + name2)\n",
        "print(\"Age: \", age)\n",
        "print(\"CGPA: \", cgpa)"
      ]
    }
  ]
}