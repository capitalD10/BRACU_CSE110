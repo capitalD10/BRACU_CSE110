{
  "nbformat": 4,
  "nbformat_minor": 0,
  "metadata": {
    "colab": {
      "provenance": []
    },
    "kernelspec": {
      "name": "python3",
      "display_name": "Python 3"
    },
    "language_info": {
      "name": "python"
    }
  },
  "cells": [
    {
      "cell_type": "code",
      "execution_count": 26,
      "metadata": {
        "colab": {
          "base_uri": "https://localhost:8080/"
        },
        "id": "llFi1AM4UXMy",
        "outputId": "86c3a982-786f-42e3-f543-d45c01284255"
      },
      "outputs": [
        {
          "output_type": "stream",
          "name": "stdout",
          "text": [
            "32768\n",
            "3, 2, 7, 6, 8\n"
          ]
        }
      ],
      "source": [
        "inp = int(input())\n",
        "le = len(str(inp))\n",
        "string = \"\"\n",
        "for x in range(le):\n",
        "  if le-1:\n",
        "    string += str(inp // (10 ** (le-1))) + \", \"\n",
        "    inp %= (10 ** (le-1))\n",
        "    le -= 1\n",
        "  else:\n",
        "    string += str(inp // (10 ** (le-1)))\n",
        "    inp %= (10 ** (le-1))\n",
        "print(string)"
      ]
    }
  ]
}