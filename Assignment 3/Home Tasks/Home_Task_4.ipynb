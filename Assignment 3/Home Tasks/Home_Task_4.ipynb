{
  "nbformat": 4,
  "nbformat_minor": 0,
  "metadata": {
    "colab": {
      "provenance": []
    },
    "kernelspec": {
      "name": "python3",
      "display_name": "Python 3"
    },
    "language_info": {
      "name": "python"
    }
  },
  "cells": [
    {
      "cell_type": "code",
      "execution_count": 28,
      "metadata": {
        "colab": {
          "base_uri": "https://localhost:8080/"
        },
        "id": "llFi1AM4UXMy",
        "outputId": "124df119-a28f-4499-e602-c1c91098fb51"
      },
      "outputs": [
        {
          "output_type": "stream",
          "name": "stdout",
          "text": [
            "3\n",
            "576\n",
            "121\n",
            "696\n",
            "Maximum: 696\n",
            "Minimum: 121\n",
            "Average: 464.3333333333333\n"
          ]
        }
      ],
      "source": [
        "inp = int(input())\n",
        "count = 0\n",
        "sum = 0\n",
        "max = None\n",
        "min = None\n",
        "for x in range(inp):\n",
        "  num = int(input())\n",
        "  count += 1\n",
        "  sum += num\n",
        "  if max == None:\n",
        "    max = num\n",
        "  elif max < num:\n",
        "    max = num\n",
        "  if min == None:\n",
        "    min = num\n",
        "  elif min > num:\n",
        "    min = num\n",
        "\n",
        "print(\"Maximum:\", max)\n",
        "print(\"Minimum:\", min)\n",
        "print(\"Average:\", (sum / count))"
      ]
    }
  ]
}