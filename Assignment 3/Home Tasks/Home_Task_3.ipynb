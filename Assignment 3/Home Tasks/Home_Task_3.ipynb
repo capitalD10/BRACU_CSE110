{
  "nbformat": 4,
  "nbformat_minor": 0,
  "metadata": {
    "colab": {
      "provenance": []
    },
    "kernelspec": {
      "name": "python3",
      "display_name": "Python 3"
    },
    "language_info": {
      "name": "python"
    }
  },
  "cells": [
    {
      "cell_type": "code",
      "execution_count": 27,
      "metadata": {
        "colab": {
          "base_uri": "https://localhost:8080/"
        },
        "id": "llFi1AM4UXMy",
        "outputId": "43dc53e6-dafa-4c3e-983b-4345e9da46b3"
      },
      "outputs": [
        {
          "output_type": "stream",
          "name": "stdout",
          "text": [
            "399\n",
            "399 is not a prime or perfect number\n"
          ]
        }
      ],
      "source": [
        "inp = int(input())\n",
        "sum = 0\n",
        "prime = 0\n",
        "for x in range(1, inp+1):\n",
        "  if inp % x ==0:\n",
        "    sum += x\n",
        "    prime += 1\n",
        "p_num = sum-inp\n",
        "if p_num == inp:\n",
        "  print(inp, \"is a perfect number\" )\n",
        "elif prime == 2:\n",
        "  print(inp, \"is a prime number\")\n",
        "else:\n",
        "  print(inp, \"is not a prime or perfect number\")"
      ]
    }
  ]
}