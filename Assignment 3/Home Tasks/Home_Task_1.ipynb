{
  "nbformat": 4,
  "nbformat_minor": 0,
  "metadata": {
    "colab": {
      "provenance": []
    },
    "kernelspec": {
      "name": "python3",
      "display_name": "Python 3"
    },
    "language_info": {
      "name": "python"
    }
  },
  "cells": [
    {
      "cell_type": "code",
      "execution_count": 25,
      "metadata": {
        "colab": {
          "base_uri": "https://localhost:8080/"
        },
        "id": "llFi1AM4UXMy",
        "outputId": "2e6f3aba-72ef-4970-af21-d4c33ec7efd8"
      },
      "outputs": [
        {
          "output_type": "stream",
          "name": "stdout",
          "text": [
            "N: 30\n",
            "Summation: 124\n"
          ]
        }
      ],
      "source": [
        "inp = int(input(\"N: \"))\n",
        "sum = 0\n",
        "for x in range(inp):\n",
        "  if x % 7 == 0 and x % 9 == 0:\n",
        "    continue\n",
        "  if x % 7 == 0:\n",
        "    sum += x\n",
        "  if x % 9 == 0:\n",
        "    sum += x\n",
        "print(\"Summation:\", sum)"
      ]
    }
  ]
}