{
  "nbformat": 4,
  "nbformat_minor": 0,
  "metadata": {
    "colab": {
      "provenance": []
    },
    "kernelspec": {
      "name": "python3",
      "display_name": "Python 3"
    },
    "language_info": {
      "name": "python"
    }
  },
  "cells": [
    {
      "cell_type": "code",
      "execution_count": 14,
      "metadata": {
        "colab": {
          "base_uri": "https://localhost:8080/"
        },
        "id": "llFi1AM4UXMy",
        "outputId": "c8e6fdbb-af58-4acb-d13e-8e58a508af1f"
      },
      "outputs": [
        {
          "output_type": "stream",
          "name": "stdout",
          "text": [
            "24, 18, 12, 6, 0, -6"
          ]
        }
      ],
      "source": [
        "count = 24\n",
        "\n",
        "while count >= -6:\n",
        "  if count == -6:\n",
        "    print(count, end=\"\")\n",
        "  else:\n",
        "    print(count, end=\", \")\n",
        "  count -= 6"
      ]
    }
  ]
}