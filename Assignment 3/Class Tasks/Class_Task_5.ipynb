{
  "nbformat": 4,
  "nbformat_minor": 0,
  "metadata": {
    "colab": {
      "provenance": []
    },
    "kernelspec": {
      "name": "python3",
      "display_name": "Python 3"
    },
    "language_info": {
      "name": "python"
    }
  },
  "cells": [
    {
      "cell_type": "code",
      "execution_count": 19,
      "metadata": {
        "colab": {
          "base_uri": "https://localhost:8080/"
        },
        "id": "llFi1AM4UXMy",
        "outputId": "6e3aa19f-3081-4f87-cbd8-5d12682599e7"
      },
      "outputs": [
        {
          "output_type": "stream",
          "name": "stdout",
          "text": [
            "Rows: 4\n",
            "Columns: 6\n",
            "123456\n",
            "123456\n",
            "123456\n",
            "123456\n"
          ]
        }
      ],
      "source": [
        "row = int(input(\"Rows: \"))\n",
        "col = int(input(\"Columns: \"))\n",
        "\n",
        "for x in range(1, row+1):\n",
        "  for y in range(1, col+1):\n",
        "    print(y, end=\"\")\n",
        "  print('')"
      ]
    }
  ]
}