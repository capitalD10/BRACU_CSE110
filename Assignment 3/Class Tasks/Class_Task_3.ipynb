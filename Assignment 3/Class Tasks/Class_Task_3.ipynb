{
  "nbformat": 4,
  "nbformat_minor": 0,
  "metadata": {
    "colab": {
      "provenance": []
    },
    "kernelspec": {
      "name": "python3",
      "display_name": "Python 3"
    },
    "language_info": {
      "name": "python"
    }
  },
  "cells": [
    {
      "cell_type": "code",
      "execution_count": 17,
      "metadata": {
        "colab": {
          "base_uri": "https://localhost:8080/"
        },
        "id": "llFi1AM4UXMy",
        "outputId": "ef664755-8013-41d0-9206-4af3359e1303"
      },
      "outputs": [
        {
          "output_type": "stream",
          "name": "stdout",
          "text": [
            "32768\n",
            "8, 6, 7, 2, 3\n"
          ]
        }
      ],
      "source": [
        "inp = int(input())\n",
        "le = len(str(inp))\n",
        "string = \"\"\n",
        "count = 0\n",
        "for i in range(le):\n",
        "  if count == le-1:\n",
        "    string += str(inp % 10)\n",
        "    inp //=10\n",
        "    count += 1\n",
        "  else:\n",
        "    string += str(inp % 10) + \", \"\n",
        "    inp //= 10\n",
        "    count += 1\n",
        "print(string)"
      ]
    }
  ]
}