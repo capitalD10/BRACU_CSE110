{
  "nbformat": 4,
  "nbformat_minor": 0,
  "metadata": {
    "colab": {
      "provenance": []
    },
    "kernelspec": {
      "name": "python3",
      "display_name": "Python 3"
    },
    "language_info": {
      "name": "python"
    }
  },
  "cells": [
    {
      "cell_type": "code",
      "execution_count": 24,
      "metadata": {
        "colab": {
          "base_uri": "https://localhost:8080/"
        },
        "id": "llFi1AM4UXMy",
        "outputId": "8d655af3-9713-4e9f-d1d3-43e9b00bb776"
      },
      "outputs": [
        {
          "output_type": "stream",
          "name": "stdout",
          "text": [
            "5\n",
            "-10\n",
            "-10\n",
            "-2\n",
            "20\n",
            "3\n",
            "60\n",
            "2\n",
            "120\n",
            "-1\n",
            "-120\n"
          ]
        }
      ],
      "source": [
        "a = int(input())\n",
        "count = 1\n",
        "sum = 1\n",
        "for i in range(a):\n",
        "  count = int(input())\n",
        "  sum *= count\n",
        "  print(sum)"
      ]
    }
  ]
}