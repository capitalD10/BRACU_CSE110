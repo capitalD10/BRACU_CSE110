{
  "nbformat": 4,
  "nbformat_minor": 0,
  "metadata": {
    "colab": {
      "provenance": []
    },
    "kernelspec": {
      "name": "python3",
      "display_name": "Python 3"
    },
    "language_info": {
      "name": "python"
    }
  },
  "cells": [
    {
      "cell_type": "code",
      "execution_count": 18,
      "metadata": {
        "colab": {
          "base_uri": "https://localhost:8080/"
        },
        "id": "llFi1AM4UXMy",
        "outputId": "5a75a3dd-ca8f-49e9-d3b1-a534d157ec28"
      },
      "outputs": [
        {
          "output_type": "stream",
          "name": "stdout",
          "text": [
            "6\n",
            "1\n",
            "2\n",
            "3\n",
            "6\n",
            "Total 4 divisors\n"
          ]
        }
      ],
      "source": [
        "inp = int(input())\n",
        "count = 0\n",
        "for x in range(1, inp+1):\n",
        "  if inp % x == 0:\n",
        "    print(x)\n",
        "    count += 1\n",
        "print(\"Total\", count, \"divisors\")"
      ]
    }
  ]
}