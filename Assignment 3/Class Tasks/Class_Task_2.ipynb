{
  "nbformat": 4,
  "nbformat_minor": 0,
  "metadata": {
    "colab": {
      "provenance": []
    },
    "kernelspec": {
      "name": "python3",
      "display_name": "Python 3"
    },
    "language_info": {
      "name": "python"
    }
  },
  "cells": [
    {
      "cell_type": "code",
      "execution_count": 15,
      "metadata": {
        "colab": {
          "base_uri": "https://localhost:8080/"
        },
        "id": "llFi1AM4UXMy",
        "outputId": "ab50d12b-3c1b-4587-f12c-f2c3dae0253b"
      },
      "outputs": [
        {
          "output_type": "stream",
          "name": "stdout",
          "text": [
            "User input: 5\n",
            "15\n"
          ]
        }
      ],
      "source": [
        "inp = int(input(\"User input: \"))\n",
        "count = 1\n",
        "sum = 0\n",
        "while count <= inp:\n",
        "  if count%2 ==0:\n",
        "    sum -= count**2\n",
        "  else:\n",
        "    sum += count**2\n",
        "  count += 1\n",
        "print(sum)"
      ]
    }
  ]
}