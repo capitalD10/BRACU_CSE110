{
  "nbformat": 4,
  "nbformat_minor": 0,
  "metadata": {
    "colab": {
      "provenance": []
    },
    "kernelspec": {
      "name": "python3",
      "display_name": "Python 3"
    },
    "language_info": {
      "name": "python"
    }
  },
  "cells": [
    {
      "cell_type": "code",
      "execution_count": 20,
      "metadata": {
        "colab": {
          "base_uri": "https://localhost:8080/"
        },
        "id": "llFi1AM4UXMy",
        "outputId": "278a5678-fc75-4f40-ed52-2a1ff13dc96a"
      },
      "outputs": [
        {
          "output_type": "stream",
          "name": "stdout",
          "text": [
            "11, -22, 33, -44, 55, -66"
          ]
        }
      ],
      "source": [
        "for i in range(11, 67, 11):\n",
        "  if i % 2 ==0:\n",
        "    i = i*(-1)\n",
        "  else:\n",
        "    i = i * 1\n",
        "  if i == -66:\n",
        "   print(i, end=\"\")\n",
        "  else:\n",
        "    print(i, end=\", \")"
      ]
    }
  ]
}