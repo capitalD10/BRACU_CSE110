{
  "nbformat": 4,
  "nbformat_minor": 0,
  "metadata": {
    "colab": {
      "provenance": []
    },
    "kernelspec": {
      "name": "python3",
      "display_name": "Python 3"
    },
    "language_info": {
      "name": "python"
    }
  },
  "cells": [
    {
      "cell_type": "code",
      "source": [
        "#1.1\n",
        "def is_prime(num):\n",
        "  prime = 0\n",
        "  for x in range(1, num + 1):\n",
        "    if num % x == 0:\n",
        "      prime += 1\n",
        "  if prime == 2:\n",
        "    return True\n",
        "  else:\n",
        "    return False\n",
        "prime_check = is_prime(5)\n",
        "print(prime_check)"
      ],
      "metadata": {
        "colab": {
          "base_uri": "https://localhost:8080/"
        },
        "id": "KuTXjx26kK9Y",
        "outputId": "488f2275-1bd8-4ccb-ef6c-1b3035fddd1d"
      },
      "execution_count": 56,
      "outputs": [
        {
          "output_type": "stream",
          "name": "stdout",
          "text": [
            "True\n"
          ]
        }
      ]
    },
    {
      "cell_type": "code",
      "source": [
        "#1.2\n",
        "def is_perfect(perfect):\n",
        "  p_num = 0\n",
        "  for y in range(1, perfect + 1):\n",
        "    if perfect % y == 0:\n",
        "      p_num += y\n",
        "  p_num = p_num - perfect\n",
        "  if p_num == perfect:\n",
        "    return True\n",
        "  else:\n",
        "    return False\n",
        "perfect_check = is_perfect(28)\n",
        "print(perfect_check)"
      ],
      "metadata": {
        "id": "q6Q8IQSEkmpQ",
        "outputId": "7151010a-03d1-4241-91c5-83576efe0e6d",
        "colab": {
          "base_uri": "https://localhost:8080/"
        }
      },
      "execution_count": 57,
      "outputs": [
        {
          "output_type": "stream",
          "name": "stdout",
          "text": [
            "True\n"
          ]
        }
      ]
    },
    {
      "cell_type": "code",
      "source": [
        "#1.3\n",
        "def special_sum(n):\n",
        "  total = 0\n",
        "  for x in range(1, n+1):\n",
        "    if is_prime(x):\n",
        "      total += x\n",
        "    elif is_perfect(x):\n",
        "      total += x\n",
        "    else:\n",
        "      continue\n",
        "  return total\n",
        "n = int(input())\n",
        "special_sum(n)"
      ],
      "metadata": {
        "id": "Kl57T3pEkofo",
        "outputId": "0c4788e5-5c9e-430c-f663-b1aad4b6b832",
        "colab": {
          "base_uri": "https://localhost:8080/"
        }
      },
      "execution_count": 58,
      "outputs": [
        {
          "name": "stdout",
          "output_type": "stream",
          "text": [
            "30\n"
          ]
        },
        {
          "output_type": "execute_result",
          "data": {
            "text/plain": [
              "163"
            ]
          },
          "metadata": {},
          "execution_count": 58
        }
      ]
    }
  ]
}