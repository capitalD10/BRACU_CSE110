{
  "nbformat": 4,
  "nbformat_minor": 0,
  "metadata": {
    "colab": {
      "provenance": []
    },
    "kernelspec": {
      "name": "python3",
      "display_name": "Python 3"
    },
    "language_info": {
      "name": "python"
    }
  },
  "cells": [
    {
      "cell_type": "code",
      "source": [
        "#2.1\n",
        "def show_dots(a):\n",
        "  for x in range(a):\n",
        "    print(\".\", end=\"\")\n",
        "show_dots(5)"
      ],
      "metadata": {
        "colab": {
          "base_uri": "https://localhost:8080/"
        },
        "id": "KuTXjx26kK9Y",
        "outputId": "8e902570-bfd0-42b4-b361-df4039e0d645"
      },
      "execution_count": 72,
      "outputs": [
        {
          "output_type": "stream",
          "name": "stdout",
          "text": [
            "....."
          ]
        }
      ]
    },
    {
      "cell_type": "code",
      "source": [
        "#2.2\n",
        "def show_palindrome(b):\n",
        "  new = \"\"\n",
        "  for y in range(1, b+1):\n",
        "    new += str(y)\n",
        "  new += new[-2::-1]\n",
        "  return new\n",
        "print(show_palindrome(5))"
      ],
      "metadata": {
        "colab": {
          "base_uri": "https://localhost:8080/"
        },
        "id": "q6Q8IQSEkmpQ",
        "outputId": "8cc16b11-bc92-4d16-e0ed-a09a9166307d"
      },
      "execution_count": 64,
      "outputs": [
        {
          "output_type": "stream",
          "name": "stdout",
          "text": [
            "123454321\n"
          ]
        }
      ]
    },
    {
      "cell_type": "code",
      "source": [
        "#2.3\n",
        "def show_triangle(n):\n",
        "  for x in range(1, n+1):\n",
        "    show_dots(n-x)\n",
        "    print(show_palindrome(x), end=\"\")\n",
        "    show_dots(n-x)\n",
        "    print()\n",
        "show_triangle(5)"
      ],
      "metadata": {
        "colab": {
          "base_uri": "https://localhost:8080/"
        },
        "id": "Kl57T3pEkofo",
        "outputId": "1902e45e-bfe9-440a-c225-b6ca5785dfb5"
      },
      "execution_count": 74,
      "outputs": [
        {
          "output_type": "stream",
          "name": "stdout",
          "text": [
            "....1....\n",
            "...121...\n",
            "..12321..\n",
            ".1234321.\n",
            "123454321\n"
          ]
        }
      ]
    }
  ]
}