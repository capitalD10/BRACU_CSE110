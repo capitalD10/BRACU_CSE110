{
  "nbformat": 4,
  "nbformat_minor": 0,
  "metadata": {
    "colab": {
      "provenance": []
    },
    "kernelspec": {
      "name": "python3",
      "display_name": "Python 3"
    },
    "language_info": {
      "name": "python"
    }
  },
  "cells": [
    {
      "cell_type": "code",
      "source": [
        "#3.1\n",
        "def calc_tax(age, salary):\n",
        "  vat = 0\n",
        "  if (age >= 18) and (salary >= 10000):\n",
        "    if 10000 <= salary <= 20000:\n",
        "      vat = (salary * 7) / 100\n",
        "    elif salary > 20000:\n",
        "      vat = (salary * 14) / 100\n",
        "    return int(vat)\n",
        "  else:\n",
        "    return 0\n",
        "calc_tax(20, 18000)"
      ],
      "metadata": {
        "colab": {
          "base_uri": "https://localhost:8080/"
        },
        "id": "KuTXjx26kK9Y",
        "outputId": "4191b234-b592-4734-dc59-a051cccfb010"
      },
      "execution_count": 75,
      "outputs": [
        {
          "output_type": "execute_result",
          "data": {
            "text/plain": [
              "1260"
            ]
          },
          "metadata": {},
          "execution_count": 75
        }
      ]
    },
    {
      "cell_type": "code",
      "source": [
        "#3.2\n",
        "def calc_yearly_tax():\n",
        "  total = 0\n",
        "  age = int(input())\n",
        "  if age >= 18:\n",
        "    for x in range(1, 13):\n",
        "      salary = int(input())\n",
        "      print(f\"Month{x} tax: {calc_tax(age,salary)}\")\n",
        "      total += calc_tax(age, salary)\n",
        "  return total\n",
        "print(f\"Total yearly tax: {calc_yearly_tax()}\")"
      ],
      "metadata": {
        "colab": {
          "base_uri": "https://localhost:8080/"
        },
        "id": "q6Q8IQSEkmpQ",
        "outputId": "d98c099d-fb8a-42c8-a145-012200081e48"
      },
      "execution_count": 78,
      "outputs": [
        {
          "output_type": "stream",
          "name": "stdout",
          "text": [
            "22\n",
            "8000\n",
            "Month1 tax: 0\n",
            "15000\n",
            "Month2 tax: 1050\n",
            "22000\n",
            "Month3 tax: 3080\n",
            "2300\n",
            "Month4 tax: 0\n",
            "15300\n",
            "Month5 tax: 1071\n",
            "21000\n",
            "Month6 tax: 2940\n",
            "34000\n",
            "Month7 tax: 4760\n",
            "9000\n",
            "Month8 tax: 0\n",
            "27000\n",
            "Month9 tax: 3780\n",
            "88000\n",
            "Month10 tax: 12320\n",
            "32000\n",
            "Month11 tax: 4480\n",
            "7300\n",
            "Month12 tax: 0\n",
            "Total yearly tax: 33481\n"
          ]
        }
      ]
    }
  ]
}