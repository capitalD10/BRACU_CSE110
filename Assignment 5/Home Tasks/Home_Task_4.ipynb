{
  "nbformat": 4,
  "nbformat_minor": 0,
  "metadata": {
    "colab": {
      "provenance": []
    },
    "kernelspec": {
      "name": "python3",
      "display_name": "Python 3"
    },
    "language_info": {
      "name": "python"
    }
  },
  "cells": [
    {
      "cell_type": "code",
      "source": [
        "#4.1\n",
        "def reverse_digits(n):\n",
        "  if n > 0:\n",
        "    print(n % 10)\n",
        "    return reverse_digits(n//10)\n",
        "reverse_digits(12345)"
      ],
      "metadata": {
        "colab": {
          "base_uri": "https://localhost:8080/"
        },
        "id": "KuTXjx26kK9Y",
        "outputId": "3af27a7c-735f-447b-9890-58a9cd8e75bf"
      },
      "execution_count": 79,
      "outputs": [
        {
          "output_type": "stream",
          "name": "stdout",
          "text": [
            "5\n",
            "4\n",
            "3\n",
            "2\n",
            "1\n"
          ]
        }
      ]
    },
    {
      "cell_type": "code",
      "source": [
        "#4.2\n",
        "def power(a, n):\n",
        "  if n == 0:\n",
        "    return 1\n",
        "  return a * power(a, n-1)\n",
        "power(3, 5)"
      ],
      "metadata": {
        "colab": {
          "base_uri": "https://localhost:8080/"
        },
        "id": "q6Q8IQSEkmpQ",
        "outputId": "723b6074-fda8-45b0-e1c9-f6bfebc45841"
      },
      "execution_count": 80,
      "outputs": [
        {
          "output_type": "execute_result",
          "data": {
            "text/plain": [
              "243"
            ]
          },
          "metadata": {},
          "execution_count": 80
        }
      ]
    }
  ]
}