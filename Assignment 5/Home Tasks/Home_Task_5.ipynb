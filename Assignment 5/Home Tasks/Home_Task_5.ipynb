{
  "nbformat": 4,
  "nbformat_minor": 0,
  "metadata": {
    "colab": {
      "provenance": []
    },
    "kernelspec": {
      "name": "python3",
      "display_name": "Python 3"
    },
    "language_info": {
      "name": "python"
    }
  },
  "cells": [
    {
      "cell_type": "code",
      "source": [
        "#5.0\n",
        "def sequence_iterative(N):\n",
        "  sum = 0\n",
        "  for x in range(1, N+1):\n",
        "    if x % 2 == 0:\n",
        "      sum -= x\n",
        "    else:\n",
        "      sum += x\n",
        "  return sum\n",
        "inp = int(input())\n",
        "sequence_iterative(inp)"
      ],
      "metadata": {
        "colab": {
          "base_uri": "https://localhost:8080/"
        },
        "id": "KuTXjx26kK9Y",
        "outputId": "d872cc2f-abe1-4faf-f97d-ea279f91d8a9"
      },
      "execution_count": 81,
      "outputs": [
        {
          "name": "stdout",
          "output_type": "stream",
          "text": [
            "12\n"
          ]
        },
        {
          "output_type": "execute_result",
          "data": {
            "text/plain": [
              "-6"
            ]
          },
          "metadata": {},
          "execution_count": 81
        }
      ]
    },
    {
      "cell_type": "code",
      "source": [
        "#5.1\n",
        "def sequence_recursive(N):\n",
        "  global total\n",
        "  if N > 0:\n",
        "    if N % 2 == 0:\n",
        "      total -= N\n",
        "    else:\n",
        "      total += N\n",
        "    return sequence_recursive(N-1)\n",
        "  return total\n",
        "inp = int(input())\n",
        "total = 0\n",
        "sequence_recursive(inp)"
      ],
      "metadata": {
        "colab": {
          "base_uri": "https://localhost:8080/"
        },
        "id": "q6Q8IQSEkmpQ",
        "outputId": "612bc7e2-fc14-4d3d-886c-2c62842cd541"
      },
      "execution_count": 82,
      "outputs": [
        {
          "name": "stdout",
          "output_type": "stream",
          "text": [
            "6\n"
          ]
        },
        {
          "output_type": "execute_result",
          "data": {
            "text/plain": [
              "-3"
            ]
          },
          "metadata": {},
          "execution_count": 82
        }
      ]
    }
  ]
}