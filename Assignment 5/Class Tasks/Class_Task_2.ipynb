{
  "nbformat": 4,
  "nbformat_minor": 0,
  "metadata": {
    "colab": {
      "provenance": []
    },
    "kernelspec": {
      "name": "python3",
      "display_name": "Python 3"
    },
    "language_info": {
      "name": "python"
    }
  },
  "cells": [
    {
      "cell_type": "code",
      "source": [
        "#2.1\n",
        "def is_valid_triangle(x, y, z):\n",
        "  if (x + y > z) and (y + z > x) and (z + x > y):\n",
        "    return True\n",
        "  else:\n",
        "    return False\n",
        "result = is_valid_triangle(3, 2, 1)\n",
        "print(result)"
      ],
      "metadata": {
        "colab": {
          "base_uri": "https://localhost:8080/"
        },
        "id": "LZm4LSOLjgCg",
        "outputId": "541c1cc7-a8e7-467d-bc4d-f0a7e51613ef"
      },
      "execution_count": 48,
      "outputs": [
        {
          "output_type": "stream",
          "name": "stdout",
          "text": [
            "False\n"
          ]
        }
      ]
    },
    {
      "cell_type": "code",
      "source": [
        "#2.2\n",
        "def tri_area(x, y, z):\n",
        "  if is_valid_triangle(x, y, z):\n",
        "    s = (x + y + z)/2\n",
        "    area_tri = (s*(s-x)*(s-y)*(s-z))**(1/2)\n",
        "    print(f\"{area_tri:.4f}\")\n",
        "  else:\n",
        "    print(\"Can't form triangle\")\n",
        "tri_area(7,5,10)"
      ],
      "metadata": {
        "colab": {
          "base_uri": "https://localhost:8080/"
        },
        "id": "TNGZCYcrjqjg",
        "outputId": "96c072df-71ce-4f46-d98f-01cf3470d555"
      },
      "execution_count": 49,
      "outputs": [
        {
          "output_type": "stream",
          "name": "stdout",
          "text": [
            "16.2481\n"
          ]
        }
      ]
    }
  ]
}