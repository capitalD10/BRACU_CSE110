{
  "nbformat": 4,
  "nbformat_minor": 0,
  "metadata": {
    "colab": {
      "provenance": []
    },
    "kernelspec": {
      "name": "python3",
      "display_name": "Python 3"
    },
    "language_info": {
      "name": "python"
    }
  },
  "cells": [
    {
      "cell_type": "code",
      "source": [
        "#3.1\n",
        "import math\n",
        "def circle(r):\n",
        "  pi = math.pi\n",
        "  cir_area = pi*(r**2)\n",
        "  return cir_area\n",
        "print(f\"{circle(5):.4f}\")"
      ],
      "metadata": {
        "colab": {
          "base_uri": "https://localhost:8080/"
        },
        "id": "LZm4LSOLjgCg",
        "outputId": "9234ac4a-c7a0-4209-bcd8-d4ddb40379db"
      },
      "execution_count": 50,
      "outputs": [
        {
          "output_type": "stream",
          "name": "stdout",
          "text": [
            "78.5398\n"
          ]
        }
      ]
    },
    {
      "cell_type": "code",
      "source": [
        "#3.2\n",
        "import math\n",
        "def sphere(r):\n",
        "  pi = math.pi\n",
        "  vol = ((4/3) * pi * (r**3))\n",
        "  return vol\n",
        "print(f\"{sphere(5):.4f}\")"
      ],
      "metadata": {
        "colab": {
          "base_uri": "https://localhost:8080/"
        },
        "id": "TNGZCYcrjqjg",
        "outputId": "af969447-5261-4f80-a878-f9911e7fa9ec"
      },
      "execution_count": 51,
      "outputs": [
        {
          "output_type": "stream",
          "name": "stdout",
          "text": [
            "523.5988\n"
          ]
        }
      ]
    },
    {
      "cell_type": "code",
      "source": [
        "#3.3\n",
        "def fitting(x, y, z):\n",
        "  circle1 = circle(x/2)\n",
        "  circle2 = circle(y/2)\n",
        "  vol1 = sphere(x/2)\n",
        "  vol2 = sphere(y/2)\n",
        "  if z == 2:\n",
        "    if circle1 < circle2:\n",
        "      left1 = (circle2 - circle1)\n",
        "      print(f\"Circle-1 can fit inside Circle-2 and {left1} square units would be left.\")\n",
        "    elif circle1 > circle2:\n",
        "      left1 = (circle1 - circle2)\n",
        "      print(f\"Circle-2 can fit inside Circle-1 and {left1} square units would be left.\")\n",
        "    elif circle1 == circle2:\n",
        "      print(\"Impossible to fit.\")\n",
        "  elif z == 3:\n",
        "    if vol1 < vol2:\n",
        "      left2 = (vol2 - vol1)\n",
        "      print(f\"Sphere-2 can fit inside Sphere-1 and {left2} cubic units would be left.\")\n",
        "    elif vol1 > vol2:\n",
        "      left2 = (vol1 - vol2)\n",
        "      print(f\"Sphere-2 can fit inside Sphere-1 and {left2} cubic units would be left.\")\n",
        "    elif x == y:\n",
        "      print(\"Impossible to fit.\")\n",
        "\n",
        "fitting(8, 10, 2)\n",
        "fitting(30,14,3)\n",
        "fitting(5,5,3)"
      ],
      "metadata": {
        "colab": {
          "base_uri": "https://localhost:8080/"
        },
        "id": "Iuk7iKf6j0oY",
        "outputId": "ee3d64d7-0c12-4924-e02d-c9407553e3a6"
      },
      "execution_count": 52,
      "outputs": [
        {
          "output_type": "stream",
          "name": "stdout",
          "text": [
            "Circle-1 can fit inside Circle-2 and 28.27433388230814 square units would be left.\n",
            "Sphere-2 can fit inside Sphere-1 and 12700.411900912335 cubic units would be left.\n",
            "Impossible to fit.\n"
          ]
        }
      ]
    }
  ]
}