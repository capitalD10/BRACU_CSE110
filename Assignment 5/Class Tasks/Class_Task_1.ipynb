{
  "nbformat": 4,
  "nbformat_minor": 0,
  "metadata": {
    "colab": {
      "provenance": []
    },
    "kernelspec": {
      "name": "python3",
      "display_name": "Python 3"
    },
    "language_info": {
      "name": "python"
    }
  },
  "cells": [
    {
      "cell_type": "code",
      "execution_count": 44,
      "metadata": {
        "colab": {
          "base_uri": "https://localhost:8080/"
        },
        "id": "llFi1AM4UXMy",
        "outputId": "17ac0698-51e9-4ccd-ccee-15eaa8ad0354"
      },
      "outputs": [
        {
          "output_type": "stream",
          "name": "stdout",
          "text": [
            "Odd!!\n"
          ]
        }
      ],
      "source": [
        "#1.1\n",
        "def even_checker(num):\n",
        "  if num % 2 == 0:\n",
        "    print(\"Even!!\")\n",
        "  else:\n",
        "    print(\"Odd!!\")\n",
        "\n",
        "even_checker(17)"
      ]
    },
    {
      "cell_type": "code",
      "source": [
        "#1.2\n",
        "def is_even(num):\n",
        "  if num % 2 == 0:\n",
        "    return True\n",
        "  else:\n",
        "    return False\n",
        "result = is_even(17)\n",
        "print(result)"
      ],
      "metadata": {
        "colab": {
          "base_uri": "https://localhost:8080/"
        },
        "id": "E1EuHwtPjbDJ",
        "outputId": "87c19c0a-582d-41d4-9e27-9b206b85d57b"
      },
      "execution_count": 45,
      "outputs": [
        {
          "output_type": "stream",
          "name": "stdout",
          "text": [
            "False\n"
          ]
        }
      ]
    },
    {
      "cell_type": "code",
      "source": [
        "#1.3\n",
        "def is_pos(num):\n",
        "  if num > 0:\n",
        "    return True\n",
        "  else:\n",
        "    return False\n",
        "result = is_pos(9)\n",
        "print(result)"
      ],
      "metadata": {
        "colab": {
          "base_uri": "https://localhost:8080/"
        },
        "id": "wlVJf4cOjd4J",
        "outputId": "e43f15e8-3a58-415d-a8e9-a1277cfe7679"
      },
      "execution_count": 46,
      "outputs": [
        {
          "output_type": "stream",
          "name": "stdout",
          "text": [
            "True\n"
          ]
        }
      ]
    },
    {
      "cell_type": "code",
      "source": [
        "#1.4\n",
        "def sequence(n):\n",
        "  if is_pos(n):\n",
        "    for x in range(0, n+1):\n",
        "      if is_even(x) == True:\n",
        "        print(x, end=\" \")\n",
        "      else:\n",
        "        continue\n",
        "  else:\n",
        "    for y in range(n, 0, 1):\n",
        "      if is_even(y) == False:\n",
        "        print(y, end=\" \")\n",
        "      else:\n",
        "        continue\n",
        "sequence(-7)"
      ],
      "metadata": {
        "id": "LZm4LSOLjgCg",
        "outputId": "2655484c-9229-4ef7-9181-5d4ff617b023",
        "colab": {
          "base_uri": "https://localhost:8080/"
        }
      },
      "execution_count": 47,
      "outputs": [
        {
          "output_type": "stream",
          "name": "stdout",
          "text": [
            "-7 -5 -3 -1 "
          ]
        }
      ]
    }
  ]
}