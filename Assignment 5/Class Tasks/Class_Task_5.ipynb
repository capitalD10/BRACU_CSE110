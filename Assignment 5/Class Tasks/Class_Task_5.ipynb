{
  "nbformat": 4,
  "nbformat_minor": 0,
  "metadata": {
    "colab": {
      "provenance": []
    },
    "kernelspec": {
      "name": "python3",
      "display_name": "Python 3"
    },
    "language_info": {
      "name": "python"
    }
  },
  "cells": [
    {
      "cell_type": "code",
      "source": [
        "#5.1\n",
        "def one_to_N(x, y):\n",
        "  if x == y+1:\n",
        "    return\n",
        "  print(x, end=\" \")\n",
        "  one_to_N(x+1, n)\n",
        "\n",
        "n = int(input())\n",
        "one_to_N(1, n)"
      ],
      "metadata": {
        "colab": {
          "base_uri": "https://localhost:8080/"
        },
        "id": "Iuk7iKf6j0oY",
        "outputId": "b263f42a-339f-4730-f642-b8a658da3064"
      },
      "execution_count": 53,
      "outputs": [
        {
          "output_type": "stream",
          "name": "stdout",
          "text": [
            "5\n",
            "1 2 3 4 5 "
          ]
        }
      ]
    },
    {
      "cell_type": "code",
      "source": [
        "#5.2\n",
        "def reverse_printing(x,y):\n",
        "  if x == y+1:\n",
        "    return\n",
        "  print(y, end=\" \")\n",
        "  reverse_printing(1, y-1)\n",
        "\n",
        "\n",
        "n = int(input())\n",
        "reverse_printing(1,n)"
      ],
      "metadata": {
        "id": "A3X3L2OykIph",
        "outputId": "0327c39c-ecbf-4c99-9915-39d7b14c2ff5",
        "colab": {
          "base_uri": "https://localhost:8080/"
        }
      },
      "execution_count": 54,
      "outputs": [
        {
          "output_type": "stream",
          "name": "stdout",
          "text": [
            "5\n",
            "5 4 3 2 1 "
          ]
        }
      ]
    },
    {
      "cell_type": "code",
      "source": [
        "#5.3\n",
        "def recursive_summation(x, y):\n",
        "  if y==x:\n",
        "    return y\n",
        "  else:\n",
        "    return y + recursive_summation(1, y-1)\n",
        "\n",
        "n = int(input())\n",
        "print(recursive_summation(1,n))"
      ],
      "metadata": {
        "id": "KuTXjx26kK9Y",
        "outputId": "454d40a8-5921-4b23-c8f3-f9bbb2823791",
        "colab": {
          "base_uri": "https://localhost:8080/"
        }
      },
      "execution_count": 55,
      "outputs": [
        {
          "output_type": "stream",
          "name": "stdout",
          "text": [
            "5\n",
            "15\n"
          ]
        }
      ]
    }
  ]
}