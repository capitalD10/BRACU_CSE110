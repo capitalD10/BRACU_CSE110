{
  "nbformat": 4,
  "nbformat_minor": 0,
  "metadata": {
    "colab": {
      "provenance": []
    },
    "kernelspec": {
      "name": "python3",
      "display_name": "Python 3"
    },
    "language_info": {
      "name": "python"
    }
  },
  "cells": [
    {
      "cell_type": "code",
      "execution_count": 4,
      "metadata": {
        "colab": {
          "base_uri": "https://localhost:8080/"
        },
        "id": "llFi1AM4UXMy",
        "outputId": "6206cce0-b93b-4706-89e1-1a0fcb12a0db"
      },
      "outputs": [
        {
          "output_type": "stream",
          "name": "stdout",
          "text": [
            "Enter number: 40\n",
            "40\n"
          ]
        }
      ],
      "source": [
        "inp1 = int(input(\"Enter number: \"))\n",
        "\n",
        "if inp1 % 2 == 0 and inp1 % 5 == 0:\n",
        "  print(inp1)\n",
        "else:\n",
        "  print(\"Not multiple of 2 and 5 both\")"
      ]
    }
  ]
}