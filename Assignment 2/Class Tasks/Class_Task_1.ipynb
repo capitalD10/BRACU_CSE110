{
  "nbformat": 4,
  "nbformat_minor": 0,
  "metadata": {
    "colab": {
      "provenance": []
    },
    "kernelspec": {
      "name": "python3",
      "display_name": "Python 3"
    },
    "language_info": {
      "name": "python"
    }
  },
  "cells": [
    {
      "cell_type": "code",
      "execution_count": 1,
      "metadata": {
        "colab": {
          "base_uri": "https://localhost:8080/"
        },
        "id": "llFi1AM4UXMy",
        "outputId": "74a69f7b-3e81-4d30-8eca-c77f008d1ce1"
      },
      "outputs": [
        {
          "output_type": "stream",
          "name": "stdout",
          "text": [
            "Enter your number: 5\n",
            "The number is odd\n"
          ]
        }
      ],
      "source": [
        "inp1 = int(input(\"Enter your number: \"))\n",
        "\n",
        "if inp1 % 2 == 0:\n",
        "  print(\"The number is even\")\n",
        "else:\n",
        "  print(\"The number is odd\")"
      ]
    }
  ]
}