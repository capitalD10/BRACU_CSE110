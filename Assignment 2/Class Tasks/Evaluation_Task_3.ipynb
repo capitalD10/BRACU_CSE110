{
  "nbformat": 4,
  "nbformat_minor": 0,
  "metadata": {
    "colab": {
      "provenance": []
    },
    "kernelspec": {
      "name": "python3",
      "display_name": "Python 3"
    },
    "language_info": {
      "name": "python"
    }
  },
  "cells": [
    {
      "cell_type": "code",
      "execution_count": 8,
      "metadata": {
        "colab": {
          "base_uri": "https://localhost:8080/"
        },
        "id": "llFi1AM4UXMy",
        "outputId": "ebcd196b-9aa2-4ae7-ff21-baebc7194de9"
      },
      "outputs": [
        {
          "output_type": "stream",
          "name": "stdout",
          "text": [
            "Distance in meters: 5000000\n",
            "Time in seconds: 7\n",
            "Velocity: 2571428.5714285714 km/h\n",
            "Too fast. Only a few changes should suffice.\n"
          ]
        }
      ],
      "source": [
        "dist = int(input(\"Distance in meters: \"))\n",
        "tim = int(input(\"Time in seconds: \"))\n",
        "\n",
        "dist /= 1000\n",
        "tim /= 3600\n",
        "\n",
        "velo = dist / tim\n",
        "print(\"Velocity:\", velo, \"km/h\")\n",
        "\n",
        "if velo < 60:\n",
        "  print(\"Too slow. It needs more changes.\")\n",
        "elif 60 <= velo <= 90:\n",
        "  print(\"Velocity is okay. The car is ready!\")\n",
        "elif velo > 90:\n",
        "  print(\"Too fast. Only a few changes should suffice.\")"
      ]
    }
  ]
}