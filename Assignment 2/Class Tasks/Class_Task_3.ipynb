{
  "nbformat": 4,
  "nbformat_minor": 0,
  "metadata": {
    "colab": {
      "provenance": []
    },
    "kernelspec": {
      "name": "python3",
      "display_name": "Python 3"
    },
    "language_info": {
      "name": "python"
    }
  },
  "cells": [
    {
      "cell_type": "code",
      "execution_count": 3,
      "metadata": {
        "colab": {
          "base_uri": "https://localhost:8080/"
        },
        "id": "llFi1AM4UXMy",
        "outputId": "3a088966-2578-4701-be33-42257bea28df"
      },
      "outputs": [
        {
          "output_type": "stream",
          "name": "stdout",
          "text": [
            "Enter number: 33\n",
            "Not a multiple of 2 OR 5\n"
          ]
        }
      ],
      "source": [
        "inp1 = int(input(\"Enter number: \"))\n",
        "\n",
        "if inp1 % 2 == 0:\n",
        "  print(inp1)\n",
        "if inp1 % 5 == 0:\n",
        "  print(inp1)\n",
        "elif inp1 % 2 != 0 and inp1% 5 != 0:\n",
        "  print(\"Not a multiple of 2 OR 5\")"
      ]
    }
  ]
}