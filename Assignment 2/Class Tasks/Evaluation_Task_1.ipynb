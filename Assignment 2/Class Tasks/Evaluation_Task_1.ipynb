{
  "nbformat": 4,
  "nbformat_minor": 0,
  "metadata": {
    "colab": {
      "provenance": []
    },
    "kernelspec": {
      "name": "python3",
      "display_name": "Python 3"
    },
    "language_info": {
      "name": "python"
    }
  },
  "cells": [
    {
      "cell_type": "code",
      "execution_count": 6,
      "metadata": {
        "colab": {
          "base_uri": "https://localhost:8080/"
        },
        "id": "llFi1AM4UXMy",
        "outputId": "fdcdd676-4c7d-455c-9e59-9b30a4d9579c"
      },
      "outputs": [
        {
          "output_type": "stream",
          "name": "stdout",
          "text": [
            "Hours worked: 156\n",
            "42800\n"
          ]
        }
      ],
      "source": [
        "inp1 = int(input(\"Hours worked: \"))\n",
        "\n",
        "if inp1 < 0:\n",
        "  print(\"Hour cannot be negative\")\n",
        "elif inp1 > 168:\n",
        "  print(\"Impossible to work more than 168 hours weekly\")\n",
        "elif inp1 <= 40:\n",
        "  inp1 *= 200\n",
        "  print(inp1)\n",
        "elif 40 <= inp1 <= 168:\n",
        "  inp1 =(inp1 - 40)*300 + 8000\n",
        "  print(inp1)"
      ]
    }
  ]
}