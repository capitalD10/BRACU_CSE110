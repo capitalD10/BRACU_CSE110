{
  "nbformat": 4,
  "nbformat_minor": 0,
  "metadata": {
    "colab": {
      "provenance": []
    },
    "kernelspec": {
      "name": "python3",
      "display_name": "Python 3"
    },
    "language_info": {
      "name": "python"
    }
  },
  "cells": [
    {
      "cell_type": "code",
      "execution_count": 7,
      "metadata": {
        "colab": {
          "base_uri": "https://localhost:8080/"
        },
        "id": "llFi1AM4UXMy",
        "outputId": "fe957e9d-b73d-4dbe-f4f4-ceea1335717b"
      },
      "outputs": [
        {
          "output_type": "stream",
          "name": "stdout",
          "text": [
            "Given Seconds: 65000\n",
            "Hours: 18\n",
            "Minutes: 3\n",
            "Seconds: 20\n"
          ]
        }
      ],
      "source": [
        "inp1 = int(input(\"Given Seconds: \"))\n",
        "\n",
        "hours = inp1 // 3600\n",
        "\n",
        "remain_sec = inp1 % 3600\n",
        "minutes = remain_sec // 60\n",
        "\n",
        "seconds = remain_sec % 60\n",
        "\n",
        "print(\"Hours:\", hours)\n",
        "print(\"Minutes:\", minutes)\n",
        "print(\"Seconds:\", seconds)"
      ]
    }
  ]
}