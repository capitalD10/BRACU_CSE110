{
  "nbformat": 4,
  "nbformat_minor": 0,
  "metadata": {
    "colab": {
      "provenance": []
    },
    "kernelspec": {
      "name": "python3",
      "display_name": "Python 3"
    },
    "language_info": {
      "name": "python"
    }
  },
  "cells": [
    {
      "cell_type": "code",
      "execution_count": 2,
      "metadata": {
        "colab": {
          "base_uri": "https://localhost:8080/"
        },
        "id": "llFi1AM4UXMy",
        "outputId": "19cd460b-7ab7-440f-87d7-1cd94e2721d3"
      },
      "outputs": [
        {
          "output_type": "stream",
          "name": "stdout",
          "text": [
            "First number: 11\n",
            "Second number: 11\n",
            "The numbers are equal\n"
          ]
        }
      ],
      "source": [
        "inp1 = int(input(\"First number: \"))\n",
        "inp2 = int(input(\"Second number: \"))\n",
        "\n",
        "if inp1 == inp2:\n",
        "  print(\"The numbers are equal\")\n",
        "\n",
        "if inp1 > inp2:\n",
        "  print(\"First number is greater\")\n",
        "\n",
        "if inp1 < inp2:\n",
        "  print(\"Second number is greater\")"
      ]
    }
  ]
}