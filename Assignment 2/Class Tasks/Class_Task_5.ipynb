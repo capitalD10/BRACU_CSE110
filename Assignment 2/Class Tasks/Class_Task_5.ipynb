{
  "nbformat": 4,
  "nbformat_minor": 0,
  "metadata": {
    "colab": {
      "provenance": []
    },
    "kernelspec": {
      "name": "python3",
      "display_name": "Python 3"
    },
    "language_info": {
      "name": "python"
    }
  },
  "cells": [
    {
      "cell_type": "code",
      "execution_count": 5,
      "metadata": {
        "colab": {
          "base_uri": "https://localhost:8080/"
        },
        "id": "llFi1AM4UXMy",
        "outputId": "b9e75b34-837a-4bc7-aebc-ba29c68d2e82"
      },
      "outputs": [
        {
          "output_type": "stream",
          "name": "stdout",
          "text": [
            "CGPA: 5\n",
            "No. of credits: 41\n",
            "The student is not eligible for a waiver\n"
          ]
        }
      ],
      "source": [
        "inp1 = float(input(\"CGPA: \"))\n",
        "inp2 = int(input(\"No. of credits: \"))\n",
        "\n",
        "if 3.80 <= inp1 <= 3.89 and inp2 >= 30:\n",
        "  print(\"The student is eligible for a waiver of 25 percent\")\n",
        "elif 3.90 <= inp1 <= 3.94 and inp2 >= 30:\n",
        "  print(\"The student is eligible for a waiver of 50 percent\")\n",
        "elif 3.95 <= inp1 <= 3.99 and inp2 >= 30:\n",
        "  print(\"The student is eligible for a waiver of 75 percent\")\n",
        "elif inp1 == 4.00 and inp2 >= 30:\n",
        "  print(\"The student is eligible for a waiver of 100 percent\")\n",
        "\n",
        "else:\n",
        "  print(\"The student is not eligible for a waiver\")"
      ]
    }
  ]
}