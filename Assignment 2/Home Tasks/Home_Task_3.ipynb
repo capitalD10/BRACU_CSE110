{
  "nbformat": 4,
  "nbformat_minor": 0,
  "metadata": {
    "colab": {
      "provenance": []
    },
    "kernelspec": {
      "name": "python3",
      "display_name": "Python 3"
    },
    "language_info": {
      "name": "python"
    }
  },
  "cells": [
    {
      "cell_type": "code",
      "execution_count": 11,
      "metadata": {
        "colab": {
          "base_uri": "https://localhost:8080/"
        },
        "id": "llFi1AM4UXMy",
        "outputId": "f23351af-2896-42b5-ecab-354d522f3494"
      },
      "outputs": [
        {
          "output_type": "stream",
          "name": "stdout",
          "text": [
            "S: 120\n",
            "2416.2162162162163\n"
          ]
        }
      ],
      "source": [
        "s = int(input(\"S: \"))\n",
        "\n",
        "if s < 100:\n",
        "  L = (3000 - (125*(s**2)))\n",
        "  print(L)\n",
        "elif s >= 100:\n",
        "  L = 12000 / (4 + (s**2) / 14900)\n",
        "  print(L)"
      ]
    }
  ]
}