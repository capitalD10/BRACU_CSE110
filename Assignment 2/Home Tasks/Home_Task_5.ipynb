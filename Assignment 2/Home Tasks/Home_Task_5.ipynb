{
  "nbformat": 4,
  "nbformat_minor": 0,
  "metadata": {
    "colab": {
      "provenance": []
    },
    "kernelspec": {
      "name": "python3",
      "display_name": "Python 3"
    },
    "language_info": {
      "name": "python"
    }
  },
  "cells": [
    {
      "cell_type": "code",
      "execution_count": 13,
      "metadata": {
        "colab": {
          "base_uri": "https://localhost:8080/"
        },
        "id": "llFi1AM4UXMy",
        "outputId": "6bc33450-a5e3-4aeb-d1c4-149fdc810f50"
      },
      "outputs": [
        {
          "output_type": "stream",
          "name": "stdout",
          "text": [
            "Marks: -5\n",
            "Invalid marks\n"
          ]
        }
      ],
      "source": [
        "marks = int(input(\"Marks: \"))\n",
        "\n",
        "if 90 <= marks <= 100:\n",
        "  print(\"Grade: A\")\n",
        "elif 80 <= marks <= 89:\n",
        "  print(\"Grade: B\")\n",
        "elif 70 <= marks <= 79:\n",
        "  print(\"Grade: C\")\n",
        "elif 60 <= marks <= 69:\n",
        "  print(\"Grade: D\")\n",
        "elif 50 <= marks <= 59:\n",
        "  print(\"Grade: E\")\n",
        "elif 0 < marks < 50:\n",
        "  print(\"Grade: F\")\n",
        "else:\n",
        "  print(\"Invalid marks\")"
      ]
    }
  ]
}