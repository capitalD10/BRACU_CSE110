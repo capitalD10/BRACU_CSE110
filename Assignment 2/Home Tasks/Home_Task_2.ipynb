{
  "nbformat": 4,
  "nbformat_minor": 0,
  "metadata": {
    "colab": {
      "provenance": []
    },
    "kernelspec": {
      "name": "python3",
      "display_name": "Python 3"
    },
    "language_info": {
      "name": "python"
    }
  },
  "cells": [
    {
      "cell_type": "code",
      "execution_count": 10,
      "metadata": {
        "colab": {
          "base_uri": "https://localhost:8080/"
        },
        "id": "llFi1AM4UXMy",
        "outputId": "f6d8be7a-e513-4473-8b79-5e374dcd144a"
      },
      "outputs": [
        {
          "output_type": "stream",
          "name": "stdout",
          "text": [
            "Your Number: 5463\n",
            "Not a multiple we want\n"
          ]
        }
      ],
      "source": [
        "num = int(input(\"Your Number: \"))\n",
        "\n",
        "if num % 2 == 0 and num  % 5 == 0:\n",
        "  print(\"Multiple of 2 and 5 both\")\n",
        "elif num % 2 == 0:\n",
        "  print(num)\n",
        "elif num % 5 == 0:\n",
        "  print(num)\n",
        "else:\n",
        "  print(\"Not a multiple we want\")"
      ]
    }
  ]
}