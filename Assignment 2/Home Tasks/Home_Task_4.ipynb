{
  "nbformat": 4,
  "nbformat_minor": 0,
  "metadata": {
    "colab": {
      "provenance": []
    },
    "kernelspec": {
      "name": "python3",
      "display_name": "Python 3"
    },
    "language_info": {
      "name": "python"
    }
  },
  "cells": [
    {
      "cell_type": "code",
      "execution_count": 12,
      "metadata": {
        "colab": {
          "base_uri": "https://localhost:8080/"
        },
        "id": "llFi1AM4UXMy",
        "outputId": "e91a6919-7a8f-4697-9aa5-bbeb13e51291"
      },
      "outputs": [
        {
          "output_type": "stream",
          "name": "stdout",
          "text": [
            "Time: 25\n",
            "Wrong time\n"
          ]
        }
      ],
      "source": [
        "inp_hr = int(input(\"Time: \"))\n",
        "\n",
        "if inp_hr < 0 or inp_hr >= 24:\n",
        "  print(\"Wrong time\")\n",
        "elif 4 <= inp_hr <= 6:\n",
        "  print(\"Breakfast\")\n",
        "elif 12 <= inp_hr <= 13:\n",
        "  print(\"Lunch\")\n",
        "elif 16 <= inp_hr <= 17:\n",
        "  print(\"Snacks\")\n",
        "elif 19 <= inp_hr <= 20:\n",
        "  print(\"Dinner\")\n",
        "else:\n",
        "  print(\"Patience is a virtue\")"
      ]
    }
  ]
}