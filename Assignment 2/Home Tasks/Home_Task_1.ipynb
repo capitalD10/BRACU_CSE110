{
  "nbformat": 4,
  "nbformat_minor": 0,
  "metadata": {
    "colab": {
      "provenance": []
    },
    "kernelspec": {
      "name": "python3",
      "display_name": "Python 3"
    },
    "language_info": {
      "name": "python"
    }
  },
  "cells": [
    {
      "cell_type": "code",
      "execution_count": 9,
      "metadata": {
        "colab": {
          "base_uri": "https://localhost:8080/"
        },
        "id": "llFi1AM4UXMy",
        "outputId": "957680f1-d5bc-4f2e-9691-3f77d7d6410d"
      },
      "outputs": [
        {
          "output_type": "stream",
          "name": "stdout",
          "text": [
            "First number: 2385\n",
            "Second number: 5621\n",
            "Subtraction: 3236\n"
          ]
        }
      ],
      "source": [
        "inp1 = int(input(\"First number: \"))\n",
        "inp2 = int(input(\"Second number: \"))\n",
        "\n",
        "if inp1 >= inp2:\n",
        "  sub1 = (inp1 - inp2)\n",
        "  print(\"Subtraction:\", sub1)\n",
        "elif inp1 <= inp2:\n",
        "  sub2 = (inp2 - inp1)\n",
        "  print(\"Subtraction:\", sub2)"
      ]
    }
  ]
}