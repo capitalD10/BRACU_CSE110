{
  "nbformat": 4,
  "nbformat_minor": 0,
  "metadata": {
    "colab": {
      "provenance": []
    },
    "kernelspec": {
      "name": "python3",
      "display_name": "Python 3"
    },
    "language_info": {
      "name": "python"
    }
  },
  "cells": [
    {
      "cell_type": "code",
      "source": [
        "vec1 = np.array([1,2,3,7])\n",
        "vec2 = np.array([4,5,6,9])\n",
        "dot = 0\n",
        "for x in range(vec1.size):\n",
        "  dot += (vec1[x] * vec2[x])\n",
        "print(f\"Dot product: {dot}\")\n",
        "if dot % 2 == 0:\n",
        "  for y in range(vec1.size):\n",
        "    if y % 2 == 0:\n",
        "      vec1[y], vec2[y] = vec2[y], vec1[y]\n",
        "  print(f\"After swapping:\")\n",
        "  print(vec1, vec2, sep = \"\\n\")\n",
        "elif dot % 2 != 0:\n",
        "  for y in range(vec1.size):\n",
        "    if y % 2 != 0:\n",
        "      vec1[y], vec2[y] = vec2[y], vec1[y]\n",
        "  print(f\"After swapping:\")\n",
        "  print(vec1, vec2, sep = \"\\n\")"
      ],
      "metadata": {
        "colab": {
          "base_uri": "https://localhost:8080/"
        },
        "id": "KuTXjx26kK9Y",
        "outputId": "16e4d44f-12fd-4b2c-a341-fa1199b44cee"
      },
      "execution_count": 5,
      "outputs": [
        {
          "output_type": "stream",
          "name": "stdout",
          "text": [
            "Dot product: 95\n",
            "After swapping:\n",
            "[1 5 3 9]\n",
            "[4 2 6 7]\n"
          ]
        }
      ]
    }
  ]
}