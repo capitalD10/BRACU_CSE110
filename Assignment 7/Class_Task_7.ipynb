{
  "nbformat": 4,
  "nbformat_minor": 0,
  "metadata": {
    "colab": {
      "provenance": []
    },
    "kernelspec": {
      "name": "python3",
      "display_name": "Python 3"
    },
    "language_info": {
      "name": "python"
    }
  },
  "cells": [
    {
      "cell_type": "code",
      "source": [
        "import numpy as np\n",
        "\n",
        "def flatten(array):\n",
        "  array_final = np.zeros(array.size, dtype = int)\n",
        "  totalRow = array.shape[0]\n",
        "  totalCol = array.shape[1]\n",
        "  index = 0\n",
        "  for row in range(totalRow):\n",
        "    for col in range(totalCol):\n",
        "      array_final[index] = array[row][col]\n",
        "      index += 1\n",
        "  return array_final\n",
        "\n",
        "arr1 = np.array( [ [ 1, 2, 3 ],\n",
        "                    [ 4, 5, 6 ],\n",
        "                    [ 7, 8, 9 ] ] )\n",
        "arr2 = flatten(arr1)\n",
        "print(arr2)"
      ],
      "metadata": {
        "colab": {
          "base_uri": "https://localhost:8080/"
        },
        "id": "KuTXjx26kK9Y",
        "outputId": "42e7bfda-c463-4733-e3f8-5091e622a2ff"
      },
      "execution_count": 7,
      "outputs": [
        {
          "output_type": "stream",
          "name": "stdout",
          "text": [
            "[1 2 3 4 5 6 7 8 9]\n"
          ]
        }
      ]
    }
  ]
}