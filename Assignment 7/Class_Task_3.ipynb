{
  "nbformat": 4,
  "nbformat_minor": 0,
  "metadata": {
    "colab": {
      "provenance": []
    },
    "kernelspec": {
      "name": "python3",
      "display_name": "Python 3"
    },
    "language_info": {
      "name": "python"
    }
  },
  "cells": [
    {
      "cell_type": "code",
      "source": [
        "import numpy as np\n",
        "\n",
        "def reverseArray(array):\n",
        "  reverse = np.zeros(array.size, dtype = int)\n",
        "  count = 0\n",
        "  for x in range(array.size-1, -1, -1):\n",
        "    while count < array.size:\n",
        "      reverse[count] = array[x]\n",
        "      count += 1\n",
        "      break\n",
        "  return reverse\n",
        "\n",
        "arr1 = np.array([5, 6, 2, 4])\n",
        "arr1 = reverseArray(arr1)\n",
        "print(arr1)"
      ],
      "metadata": {
        "colab": {
          "base_uri": "https://localhost:8080/"
        },
        "id": "KuTXjx26kK9Y",
        "outputId": "5caad669-ff86-475e-ae6d-0ec7a1ead4ba"
      },
      "execution_count": 3,
      "outputs": [
        {
          "output_type": "stream",
          "name": "stdout",
          "text": [
            "[4 2 6 5]\n"
          ]
        }
      ]
    }
  ]
}