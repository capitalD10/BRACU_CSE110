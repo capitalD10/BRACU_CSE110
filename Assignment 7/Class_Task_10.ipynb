{
  "nbformat": 4,
  "nbformat_minor": 0,
  "metadata": {
    "colab": {
      "provenance": []
    },
    "kernelspec": {
      "name": "python3",
      "display_name": "Python 3"
    },
    "language_info": {
      "name": "python"
    }
  },
  "cells": [
    {
      "cell_type": "code",
      "source": [
        "#10.1\n",
        "import numpy as np\n",
        "\n",
        "A = np.array([[1,2,3,4],\n",
        "              [1,4,9,16]])\n",
        "totalRow = A.shape[0]\n",
        "totalCol = A.shape[1]\n",
        "A_T = np.zeros((totalCol, totalRow), dtype = int)\n",
        "for row in range(totalRow):\n",
        "  for col in range(totalCol):\n",
        "    A_T[col][row] = A[row][col]\n",
        "print(A_T)"
      ],
      "metadata": {
        "colab": {
          "base_uri": "https://localhost:8080/"
        },
        "id": "KuTXjx26kK9Y",
        "outputId": "374eddb9-775a-4aec-c33b-22877d153efa"
      },
      "execution_count": 11,
      "outputs": [
        {
          "output_type": "stream",
          "name": "stdout",
          "text": [
            "[[ 1  1]\n",
            " [ 2  4]\n",
            " [ 3  9]\n",
            " [ 4 16]]\n"
          ]
        }
      ]
    },
    {
      "cell_type": "code",
      "source": [
        "#10.2\n",
        "import numpy as np\n",
        "\n",
        "gram_mat = np.zeros((A_T.shape[0], A.shape[1]), dtype = int)\n",
        "gramRow = gram_mat.shape[0]\n",
        "gramCol = gram_mat.shape[1]\n",
        "for row in range(gramRow):\n",
        "  for col in range(gramCol):\n",
        "    element = 0\n",
        "    for x in range(A_T.shape[1]):\n",
        "      multiplication = (A_T[row][x] * A[x][col])\n",
        "      element += multiplication\n",
        "    gram_mat[row][col] = element\n",
        "print(gram_mat)"
      ],
      "metadata": {
        "colab": {
          "base_uri": "https://localhost:8080/"
        },
        "id": "HJkO5di8_FJ_",
        "outputId": "e3868b4b-d6f3-4f42-c074-51f95b5d119b"
      },
      "execution_count": 12,
      "outputs": [
        {
          "output_type": "stream",
          "name": "stdout",
          "text": [
            "[[  2   6  12  20]\n",
            " [  6  20  42  72]\n",
            " [ 12  42  90 156]\n",
            " [ 20  72 156 272]]\n"
          ]
        }
      ]
    }
  ]
}