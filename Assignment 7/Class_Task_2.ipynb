{
  "nbformat": 4,
  "nbformat_minor": 0,
  "metadata": {
    "colab": {
      "provenance": []
    },
    "kernelspec": {
      "name": "python3",
      "display_name": "Python 3"
    },
    "language_info": {
      "name": "python"
    }
  },
  "cells": [
    {
      "cell_type": "code",
      "source": [
        "import numpy as np\n",
        "\n",
        "N = int(input())\n",
        "array1 = np.zeros(N, dtype = int)\n",
        "for x in range(array1.size):\n",
        "  var = int(input())\n",
        "  array1[x] = var\n",
        "print(array1)\n",
        "\n",
        "for y in range(array1.size):\n",
        "  if array1[y] > 0:\n",
        "    array1[y] = 1\n",
        "  else:\n",
        "    array1[y] = 0\n",
        "print(array1)"
      ],
      "metadata": {
        "colab": {
          "base_uri": "https://localhost:8080/"
        },
        "id": "KuTXjx26kK9Y",
        "outputId": "672dfc8e-1fb4-4525-8c00-1387d12dd673"
      },
      "execution_count": 2,
      "outputs": [
        {
          "output_type": "stream",
          "name": "stdout",
          "text": [
            "3\n",
            "-4\n",
            "0\n",
            "2\n",
            "[-4  0  2]\n",
            "[0 0 1]\n"
          ]
        }
      ]
    }
  ]
}