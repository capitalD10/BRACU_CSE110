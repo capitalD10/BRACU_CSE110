{
  "nbformat": 4,
  "nbformat_minor": 0,
  "metadata": {
    "colab": {
      "provenance": []
    },
    "kernelspec": {
      "name": "python3",
      "display_name": "Python 3"
    },
    "language_info": {
      "name": "python"
    }
  },
  "cells": [
    {
      "cell_type": "code",
      "source": [
        "import numpy as np\n",
        "\n",
        "A = np.array([  [1,  5,  12,  1],\n",
        "                [2,  -4,  6,  7],\n",
        "                [3,  8,  5,  9],\n",
        "                [3,  5,  23,  -6] ])\n",
        "totalRow = A.shape[0]\n",
        "totalCol = A.shape[1]\n",
        "p_diagonal = 0\n",
        "s_diagonal = 0\n",
        "for row in range(totalRow):\n",
        "  for col in range(totalCol):\n",
        "    if row == col:\n",
        "      p_diagonal += A[row][col]\n",
        "    elif col == (totalCol - row - 1):\n",
        "      s_diagonal += A[row][col]\n",
        "difference = abs(p_diagonal - s_diagonal)\n",
        "print(difference)"
      ],
      "metadata": {
        "colab": {
          "base_uri": "https://localhost:8080/"
        },
        "id": "KuTXjx26kK9Y",
        "outputId": "ba70bd90-6354-4916-cba2-6ede649a2dc7"
      },
      "execution_count": 9,
      "outputs": [
        {
          "output_type": "stream",
          "name": "stdout",
          "text": [
            "22\n"
          ]
        }
      ]
    }
  ]
}