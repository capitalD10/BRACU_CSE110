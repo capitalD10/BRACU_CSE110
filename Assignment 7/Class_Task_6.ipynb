{
  "nbformat": 4,
  "nbformat_minor": 0,
  "metadata": {
    "colab": {
      "provenance": []
    },
    "kernelspec": {
      "name": "python3",
      "display_name": "Python 3"
    },
    "language_info": {
      "name": "python"
    }
  },
  "cells": [
    {
      "cell_type": "code",
      "source": [
        "import numpy as np\n",
        "\n",
        "N = int(input())\n",
        "array1 = np.zeros(N, dtype = int)\n",
        "for x in range(array1.size):\n",
        "  var = int(input())\n",
        "  array1[x] = var\n",
        "\n",
        "for x in range(array1.size):\n",
        "  min_index = x\n",
        "  for y in range(x+1, array1.size):\n",
        "    if array1[y] < array1[min_index]:\n",
        "      min_index = y\n",
        "  array1[x], array1[min_index] = array1[min_index], array1[x]\n",
        "print(array1)"
      ],
      "metadata": {
        "colab": {
          "base_uri": "https://localhost:8080/"
        },
        "id": "KuTXjx26kK9Y",
        "outputId": "895eea13-3e80-4b01-8c8e-c57c51387dec"
      },
      "execution_count": 6,
      "outputs": [
        {
          "output_type": "stream",
          "name": "stdout",
          "text": [
            "6\n",
            "3\n",
            "6\n",
            "1\n",
            "2\n",
            "8\n",
            "5\n",
            "[1 2 3 5 6 8]\n"
          ]
        }
      ]
    }
  ]
}