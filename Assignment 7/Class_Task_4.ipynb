{
  "nbformat": 4,
  "nbformat_minor": 0,
  "metadata": {
    "colab": {
      "provenance": []
    },
    "kernelspec": {
      "name": "python3",
      "display_name": "Python 3"
    },
    "language_info": {
      "name": "python"
    }
  },
  "cells": [
    {
      "cell_type": "code",
      "source": [
        "import numpy as np\n",
        "\n",
        "def printPairs(array, num):\n",
        "  flag = False\n",
        "  for x in range(array.size):\n",
        "    for y in range(x+1, array.size):\n",
        "      if array[x] + array[y] == num:\n",
        "        print(f\"{array[x]}, {array[y]}\")\n",
        "        flag = True\n",
        "  if flag == False:\n",
        "    print(\"No pair found\")\n",
        "\n",
        "arr1 = np.array([7,8,10,5,3,4,2])\n",
        "printPairs(arr1, 15)"
      ],
      "metadata": {
        "colab": {
          "base_uri": "https://localhost:8080/"
        },
        "id": "KuTXjx26kK9Y",
        "outputId": "cb509b6e-464d-4734-bca5-82a222d748ff"
      },
      "execution_count": 4,
      "outputs": [
        {
          "output_type": "stream",
          "name": "stdout",
          "text": [
            "7, 8\n",
            "10, 5\n"
          ]
        }
      ]
    }
  ]
}