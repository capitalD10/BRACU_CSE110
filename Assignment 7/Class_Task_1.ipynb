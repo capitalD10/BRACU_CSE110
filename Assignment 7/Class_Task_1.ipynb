{
  "nbformat": 4,
  "nbformat_minor": 0,
  "metadata": {
    "colab": {
      "provenance": []
    },
    "kernelspec": {
      "name": "python3",
      "display_name": "Python 3"
    },
    "language_info": {
      "name": "python"
    }
  },
  "cells": [
    {
      "cell_type": "code",
      "source": [
        "import numpy as np\n",
        "\n",
        "N = int(input())\n",
        "array1 = np.zeros(N, dtype = int)\n",
        "for x in range(array1.size):\n",
        "  var = int(input())\n",
        "  array1[x] = var\n",
        "print(array1)\n",
        "add_num = int(input())\n",
        "array2 = np.zeros(N + 1, dtype = int)\n",
        "for y in range(N):\n",
        "  array2[y] = array1[y]\n",
        "array2[array2.size - 1] = add_num\n",
        "print(array2)"
      ],
      "metadata": {
        "colab": {
          "base_uri": "https://localhost:8080/"
        },
        "id": "KuTXjx26kK9Y",
        "outputId": "90419ec4-209a-43a8-f2b5-9155472c7fbd"
      },
      "execution_count": 1,
      "outputs": [
        {
          "output_type": "stream",
          "name": "stdout",
          "text": [
            "3\n",
            "5\n",
            "8\n",
            "2\n",
            "[5 8 2]\n",
            "4\n",
            "[5 8 2 4]\n"
          ]
        }
      ]
    }
  ]
}