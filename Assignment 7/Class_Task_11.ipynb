{
  "nbformat": 4,
  "nbformat_minor": 0,
  "metadata": {
    "colab": {
      "provenance": []
    },
    "kernelspec": {
      "name": "python3",
      "display_name": "Python 3"
    },
    "language_info": {
      "name": "python"
    }
  },
  "cells": [
    {
      "cell_type": "code",
      "source": [
        "import numpy as np\n",
        "\n",
        "A = np.array([[4,1,2],\n",
        "              [9,3,7]])\n",
        "\n",
        "totalRow = A.shape[0]\n",
        "totalCol = A.shape[1]\n",
        "abs_value = abs(totalRow - totalCol)\n",
        "remainder = abs_value % totalRow\n",
        "average = 0\n",
        "\n",
        "if remainder == totalRow - 1:\n",
        "  for col in range(totalCol):\n",
        "    average += ((A[remainder][col]) / totalCol)\n",
        "elif remainder == 0:\n",
        "  for col in range(totalCol):\n",
        "    average += ((A[remainder][col]) / totalCol)\n",
        "\n",
        "average = average.round(decimals=2)\n",
        "A = A * average\n",
        "print(A)"
      ],
      "metadata": {
        "colab": {
          "base_uri": "https://localhost:8080/"
        },
        "id": "KuTXjx26kK9Y",
        "outputId": "d07e3fa8-54eb-4a03-dd8e-1ea11e5152b3"
      },
      "execution_count": 13,
      "outputs": [
        {
          "output_type": "stream",
          "name": "stdout",
          "text": [
            "[[25.32  6.33 12.66]\n",
            " [56.97 18.99 44.31]]\n"
          ]
        }
      ]
    }
  ]
}