{
  "nbformat": 4,
  "nbformat_minor": 0,
  "metadata": {
    "colab": {
      "provenance": []
    },
    "kernelspec": {
      "name": "python3",
      "display_name": "Python 3"
    },
    "language_info": {
      "name": "python"
    }
  },
  "cells": [
    {
      "cell_type": "code",
      "source": [
        "import numpy as np\n",
        "\n",
        "A = np.array([  [1, 0, 0],\n",
        "                [0, 1, 0],\n",
        "                [0, 0, 1] ])\n",
        "totalRow = A.shape[0]\n",
        "totalCol = A.shape[1]\n",
        "index = 0\n",
        "flag = False\n",
        "for row in range(totalRow):\n",
        "  for col in range(totalCol):\n",
        "    if (row == col and A[row][col] == 1) or (row != col and A[row][col] == 0):\n",
        "      flag = True\n",
        "      continue\n",
        "    elif (row == col and A[row][col] != 1) or (row != col and A[row][col] != 0):\n",
        "      flag = False\n",
        "      break\n",
        "if flag == True:\n",
        "  print(\"Identity Matrix\")\n",
        "elif flag == False:\n",
        "  print(\"Not an Identity Matrix\")"
      ],
      "metadata": {
        "colab": {
          "base_uri": "https://localhost:8080/"
        },
        "id": "KuTXjx26kK9Y",
        "outputId": "859738f4-31fe-4810-e93e-e453387b1d6d"
      },
      "execution_count": 8,
      "outputs": [
        {
          "output_type": "stream",
          "name": "stdout",
          "text": [
            "Identity Matrix\n"
          ]
        }
      ]
    }
  ]
}