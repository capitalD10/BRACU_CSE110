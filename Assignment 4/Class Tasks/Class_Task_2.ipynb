{
  "nbformat": 4,
  "nbformat_minor": 0,
  "metadata": {
    "colab": {
      "provenance": []
    },
    "kernelspec": {
      "name": "python3",
      "display_name": "Python 3"
    },
    "language_info": {
      "name": "python"
    }
  },
  "cells": [
    {
      "cell_type": "code",
      "execution_count": 33,
      "metadata": {
        "colab": {
          "base_uri": "https://localhost:8080/"
        },
        "id": "llFi1AM4UXMy",
        "outputId": "2086eba1-9fa8-481e-8875-2e14dab4bdd1"
      },
      "outputs": [
        {
          "output_type": "stream",
          "name": "stdout",
          "text": [
            "String: quincuncial\n",
            "q: 113\n",
            "u: 117\n",
            "i: 105\n",
            "n: 110\n",
            "c: 99\n",
            "u: 117\n",
            "n: 110\n",
            "c: 99\n",
            "i: 105\n",
            "a: 97\n",
            "l: 108\n"
          ]
        }
      ],
      "source": [
        "#2.1\n",
        "\n",
        "inp = input(\"String: \")\n",
        "for x in range(len(inp)):\n",
        "  print(inp[x] + \":\", ord(inp[x]))"
      ]
    },
    {
      "cell_type": "code",
      "source": [
        "#2.2\n",
        "\n",
        "inp = input(\"Text: \")\n",
        "diff = ord(\"A\") - ord(\"a\")\n",
        "\n",
        "for x in range(len(inp)):\n",
        "  if x % 2 != 0:\n",
        "    print(chr(ord(inp[x]) + diff), end= \"\")"
      ],
      "metadata": {
        "colab": {
          "base_uri": "https://localhost:8080/"
        },
        "id": "Nw-5y7D1gsdJ",
        "outputId": "c7917d3c-9404-4e12-f285-6d2ac9ae566a"
      },
      "execution_count": 34,
      "outputs": [
        {
          "output_type": "stream",
          "name": "stdout",
          "text": [
            "Text: abcdef\n",
            "BDF"
          ]
        }
      ]
    }
  ]
}