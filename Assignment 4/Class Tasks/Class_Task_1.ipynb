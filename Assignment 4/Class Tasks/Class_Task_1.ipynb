{
  "nbformat": 4,
  "nbformat_minor": 0,
  "metadata": {
    "colab": {
      "provenance": []
    },
    "kernelspec": {
      "name": "python3",
      "display_name": "Python 3"
    },
    "language_info": {
      "name": "python"
    }
  },
  "cells": [
    {
      "cell_type": "code",
      "execution_count": 30,
      "metadata": {
        "colab": {
          "base_uri": "https://localhost:8080/"
        },
        "id": "llFi1AM4UXMy",
        "outputId": "cdbf9665-d760-4b06-eeee-6c96286b67ee"
      },
      "outputs": [
        {
          "output_type": "stream",
          "name": "stdout",
          "text": [
            "Text: hello\n",
            "olleh"
          ]
        }
      ],
      "source": [
        "#1.1.1\n",
        "\n",
        "inp = input(\"Text: \")\n",
        "for x in range(len(inp)-1, -1, -1):\n",
        "  print(inp[x], end=\"\")"
      ]
    },
    {
      "cell_type": "code",
      "source": [
        "#1.1.2\n",
        "\n",
        "inp = input(\"Text: \")\n",
        "print(inp[-1::-1])"
      ],
      "metadata": {
        "colab": {
          "base_uri": "https://localhost:8080/"
        },
        "id": "KDKnySF4gSjS",
        "outputId": "5990c018-391c-4643-d851-64e511922792"
      },
      "execution_count": 31,
      "outputs": [
        {
          "output_type": "stream",
          "name": "stdout",
          "text": [
            "Text: 123456\n",
            "654321\n"
          ]
        }
      ]
    },
    {
      "cell_type": "code",
      "source": [
        "#1.2\n",
        "\n",
        "inp1 = input(\"String: \")\n",
        "inp2 = int(input(\"Start reverse: \"))\n",
        "for x in range(inp2, -1, -1):\n",
        "  print(inp1[x], end=\"\")\n",
        "for y in range(inp2+1, len(inp1), 1):\n",
        "  print(inp1[y], end=\"\")"
      ],
      "metadata": {
        "colab": {
          "base_uri": "https://localhost:8080/"
        },
        "id": "Zyiir3F7gUN5",
        "outputId": "32f7a710-8009-4b03-c761-4b5912b886cd"
      },
      "execution_count": 32,
      "outputs": [
        {
          "output_type": "stream",
          "name": "stdout",
          "text": [
            "String: aBcd1234defg\n",
            "Start reverse: 5\n",
            "21dcBa34defg"
          ]
        }
      ]
    }
  ]
}