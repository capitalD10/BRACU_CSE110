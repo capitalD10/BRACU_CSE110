{
  "nbformat": 4,
  "nbformat_minor": 0,
  "metadata": {
    "colab": {
      "provenance": []
    },
    "kernelspec": {
      "name": "python3",
      "display_name": "Python 3"
    },
    "language_info": {
      "name": "python"
    }
  },
  "cells": [
    {
      "cell_type": "code",
      "execution_count": 36,
      "metadata": {
        "colab": {
          "base_uri": "https://localhost:8080/"
        },
        "id": "llFi1AM4UXMy",
        "outputId": "af7358d1-695a-49d1-b26c-2a7f5fac5314"
      },
      "outputs": [
        {
          "output_type": "stream",
          "name": "stdout",
          "text": [
            "This-is-CSE110\n",
            "-\n",
            "This\n",
            "is\n",
            "CSE110\n"
          ]
        }
      ],
      "source": [
        "inp1 = input()\n",
        "inp2 = input()\n",
        "string = \"\"\n",
        "for x in range(len(inp1)):\n",
        "  if inp1[x] == inp2:\n",
        "    print(string)\n",
        "    string = \"\"\n",
        "  else:\n",
        "    string += inp1[x]\n",
        "print(string)"
      ]
    }
  ]
}