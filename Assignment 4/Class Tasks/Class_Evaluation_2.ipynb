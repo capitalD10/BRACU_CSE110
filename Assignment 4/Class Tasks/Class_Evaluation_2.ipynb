{
  "nbformat": 4,
  "nbformat_minor": 0,
  "metadata": {
    "colab": {
      "provenance": []
    },
    "kernelspec": {
      "name": "python3",
      "display_name": "Python 3"
    },
    "language_info": {
      "name": "python"
    }
  },
  "cells": [
    {
      "cell_type": "code",
      "execution_count": 39,
      "metadata": {
        "colab": {
          "base_uri": "https://localhost:8080/"
        },
        "id": "llFi1AM4UXMy",
        "outputId": "39a6d6ec-d499-4938-e0b3-864129da3ce9"
      },
      "outputs": [
        {
          "output_type": "stream",
          "name": "stdout",
          "text": [
            "Yo-hoo-hoo!\n",
            "Blimey! No Plunder!!\n"
          ]
        }
      ],
      "source": [
        "inp = input()\n",
        "vowel = \"AEIOUaeiou\"\n",
        "vow = 0\n",
        "con = 0\n",
        "for x in range(len(inp)):\n",
        "  if ord(\"A\") <= ord(inp[x]) <= ord(\"Z\") or ord(\"a\") <= ord(inp[x]) <= ord(\"z\"):\n",
        "    if inp[x] in vowel:\n",
        "      vow += 1\n",
        "    else:\n",
        "      con += 1\n",
        "\n",
        "if vow % 3 == 0 and con % 5 ==0 and vow != 0 and con != 0:\n",
        "  print(\"Aaarr! Me Plunder!!\")\n",
        "else:\n",
        "  print(\"Blimey! No Plunder!!\")"
      ]
    }
  ]
}