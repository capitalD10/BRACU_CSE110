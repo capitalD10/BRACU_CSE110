{
  "nbformat": 4,
  "nbformat_minor": 0,
  "metadata": {
    "colab": {
      "provenance": []
    },
    "kernelspec": {
      "name": "python3",
      "display_name": "Python 3"
    },
    "language_info": {
      "name": "python"
    }
  },
  "cells": [
    {
      "cell_type": "code",
      "execution_count": 38,
      "metadata": {
        "colab": {
          "base_uri": "https://localhost:8080/"
        },
        "id": "llFi1AM4UXMy",
        "outputId": "c2e94a7b-ad5e-4d92-ccbb-c55ffaaf3cc2"
      },
      "outputs": [
        {
          "output_type": "stream",
          "name": "stdout",
          "text": [
            "ary NumberBin\n",
            "Not a Binary Number\n"
          ]
        }
      ],
      "source": [
        "inp = input()\n",
        "bin_count = 0\n",
        "non_count = 0\n",
        "for x in range(len(inp)):\n",
        "  if inp[x] == \"1\" or inp[x] == \"0\":\n",
        "    bin_count += 1\n",
        "  else:\n",
        "    non_count += 1\n",
        "if non_count > 0:\n",
        "  print(\"Not a Binary Number\")\n",
        "else:\n",
        "  print(\"Binary Number\")"
      ]
    }
  ]
}