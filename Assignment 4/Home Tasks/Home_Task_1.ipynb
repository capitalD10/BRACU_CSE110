{
  "nbformat": 4,
  "nbformat_minor": 0,
  "metadata": {
    "colab": {
      "provenance": []
    },
    "kernelspec": {
      "name": "python3",
      "display_name": "Python 3"
    },
    "language_info": {
      "name": "python"
    }
  },
  "cells": [
    {
      "cell_type": "code",
      "execution_count": 40,
      "metadata": {
        "colab": {
          "base_uri": "https://localhost:8080/"
        },
        "id": "llFi1AM4UXMy",
        "outputId": "7e5ac45c-dc4d-4b88-cccb-a1693f97b27e"
      },
      "outputs": [
        {
          "output_type": "stream",
          "name": "stdout",
          "text": [
            "Jupyter Notebook is better. Case sensitivity check AAaaaAaaAAAa.\n",
            "Jupyter Notebok is beter. Case sensitivity check AaAaAa.\n"
          ]
        }
      ],
      "source": [
        "inp = input()\n",
        "b = inp[0]\n",
        "c = 0\n",
        "for i in range(1,len(inp)):\n",
        "  if inp[i] != b[c]:\n",
        "    b+=inp[i]\n",
        "    c+=1\n",
        "print(b)"
      ]
    }
  ]
}