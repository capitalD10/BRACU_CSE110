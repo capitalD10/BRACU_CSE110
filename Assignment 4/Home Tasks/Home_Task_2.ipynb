{
  "nbformat": 4,
  "nbformat_minor": 0,
  "metadata": {
    "colab": {
      "provenance": []
    },
    "kernelspec": {
      "name": "python3",
      "display_name": "Python 3"
    },
    "language_info": {
      "name": "python"
    }
  },
  "cells": [
    {
      "cell_type": "code",
      "execution_count": 41,
      "metadata": {
        "colab": {
          "base_uri": "https://localhost:8080/"
        },
        "id": "llFi1AM4UXMy",
        "outputId": "3c1ea361-0421-4c8d-b385-e6e9ad2c2e0f"
      },
      "outputs": [
        {
          "output_type": "stream",
          "name": "stdout",
          "text": [
            "ABCDENDFGH, ijkl\n",
            "AiBjCkDlENDFGH\n"
          ]
        }
      ],
      "source": [
        "inp = input()\n",
        "split = None\n",
        "count = 0\n",
        "for x in inp:\n",
        "  if x == \",\" and split == None:\n",
        "    split = count\n",
        "    break\n",
        "  count += 1\n",
        "word1 = inp[0:split:1]\n",
        "word2 = inp[split+2::1]\n",
        "new = \"\"\n",
        "if len(word1) > len(word2):\n",
        "  large = word1\n",
        "  small = word2\n",
        "else:\n",
        "  large = word2\n",
        "  small = word1\n",
        "for y in range(0, len(small)):\n",
        "  new += word1[y] + word2[y]\n",
        "for z in range(len(small), len(large)):\n",
        "  new += large[z]\n",
        "print(new)"
      ]
    }
  ]
}