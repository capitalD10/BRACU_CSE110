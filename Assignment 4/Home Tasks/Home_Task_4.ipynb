{
  "nbformat": 4,
  "nbformat_minor": 0,
  "metadata": {
    "colab": {
      "provenance": []
    },
    "kernelspec": {
      "name": "python3",
      "display_name": "Python 3"
    },
    "language_info": {
      "name": "python"
    }
  },
  "cells": [
    {
      "cell_type": "code",
      "execution_count": 43,
      "metadata": {
        "colab": {
          "base_uri": "https://localhost:8080/"
        },
        "id": "llFi1AM4UXMy",
        "outputId": "aa833b27-e630-4c39-b420-49b9256fd74d"
      },
      "outputs": [
        {
          "output_type": "stream",
          "name": "stdout",
          "text": [
            "Python programming is very easy\n",
            "PyThOn PrOgRaMmInG iS vErY eAsY\n"
          ]
        }
      ],
      "source": [
        "inp = input()\n",
        "temp = \"\"\n",
        "new = \"\"\n",
        "for i in range(len(inp)):\n",
        "  if i == 0:\n",
        "    new += inp[i]\n",
        "    temp += inp[i]\n",
        "  elif inp[i] == \" \":\n",
        "    new += inp[i]\n",
        "  elif 64 < ord(temp) < 91:\n",
        "    if 64 < ord(inp[i]) < 91:\n",
        "      new += chr(ord(inp[i])+32)\n",
        "      temp = chr(ord(inp[i])+32)\n",
        "    else:\n",
        "      new += inp[i]\n",
        "      temp = inp[i]\n",
        "  else:\n",
        "    if 96 < ord(inp[i]) < 123:\n",
        "      new += chr(ord(inp[i])-32)\n",
        "      temp = chr(ord(inp[i])-32)\n",
        "    else:\n",
        "      new += inp[i]\n",
        "      temp = inp[i]\n",
        "print(new)"
      ]
    }
  ]
}