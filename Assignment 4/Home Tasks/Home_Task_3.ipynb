{
  "nbformat": 4,
  "nbformat_minor": 0,
  "metadata": {
    "colab": {
      "provenance": []
    },
    "kernelspec": {
      "name": "python3",
      "display_name": "Python 3"
    },
    "language_info": {
      "name": "python"
    }
  },
  "cells": [
    {
      "cell_type": "code",
      "execution_count": 42,
      "metadata": {
        "colab": {
          "base_uri": "https://localhost:8080/"
        },
        "id": "llFi1AM4UXMy",
        "outputId": "7fc1ecd3-37dc-40b2-8f58-1d56a614b3e4"
      },
      "outputs": [
        {
          "output_type": "stream",
          "name": "stdout",
          "text": [
            "the cow\n",
            "uif!dpx"
          ]
        }
      ],
      "source": [
        "inp = input()\n",
        "\n",
        "for x in inp:\n",
        "  ascii = ord(x)\n",
        "  ascii += 1\n",
        "  if ascii > 122:\n",
        "    ascii = 97\n",
        "  charac = chr(ascii)\n",
        "  print(charac, end=\"\")"
      ]
    }
  ]
}