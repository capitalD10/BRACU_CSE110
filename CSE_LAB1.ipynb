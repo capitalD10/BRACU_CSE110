{
  "nbformat": 4,
  "nbformat_minor": 0,
  "metadata": {
    "colab": {
      "provenance": []
    },
    "kernelspec": {
      "name": "python3",
      "display_name": "Python 3"
    },
    "language_info": {
      "name": "python"
    }
  },
  "cells": [
    {
      "cell_type": "code",
      "execution_count": null,
      "metadata": {
        "colab": {
          "base_uri": "https://localhost:8080/"
        },
        "id": "GATfcKYqzYpl",
        "outputId": "97c59455-124f-4e91-fc2a-edab3983a383"
      },
      "outputs": [
        {
          "output_type": "stream",
          "name": "stdout",
          "text": [
            "enter a number:10\n",
            "10\n"
          ]
        }
      ],
      "source": [
        "x = input(\"enter a number:\")\n",
        "print(x)"
      ]
    },
    {
      "cell_type": "code",
      "source": [
        "x = 2\n",
        "y = 3\n",
        "print(x, y, sep=\"...\")"
      ],
      "metadata": {
        "colab": {
          "base_uri": "https://localhost:8080/"
        },
        "id": "JamM0-Ql0Lzq",
        "outputId": "e925367e-6241-4afc-8edc-0f8c023377f2"
      },
      "execution_count": null,
      "outputs": [
        {
          "output_type": "stream",
          "name": "stdout",
          "text": [
            "2...3\n"
          ]
        }
      ]
    },
    {
      "cell_type": "code",
      "source": [
        "x = 2\n",
        "y = 3\n",
        "print(x, \"-\", y, sep=\"\")"
      ],
      "metadata": {
        "colab": {
          "base_uri": "https://localhost:8080/"
        },
        "id": "Tq_7uI5e0WBK",
        "outputId": "d1a77ecc-d838-430b-8820-3751a2c60cc9"
      },
      "execution_count": null,
      "outputs": [
        {
          "output_type": "stream",
          "name": "stdout",
          "text": [
            "2-3\n"
          ]
        }
      ]
    },
    {
      "cell_type": "code",
      "source": [
        "x = 10\n",
        "y = 5\n",
        "print(f\"{x-y} is the result of x-y\") #here 'f' is a format method, where we can use different actions together"
      ],
      "metadata": {
        "colab": {
          "base_uri": "https://localhost:8080/"
        },
        "id": "sydjN-yt1dgg",
        "outputId": "6c7ba87a-1543-4b2d-9d6b-093c4b5f3069"
      },
      "execution_count": null,
      "outputs": [
        {
          "output_type": "stream",
          "name": "stdout",
          "text": [
            "5 is the result of x-y\n"
          ]
        }
      ]
    },
    {
      "cell_type": "markdown",
      "source": [
        "Class Task 1"
      ],
      "metadata": {
        "id": "3Vgo4sqE7Mo0"
      }
    },
    {
      "cell_type": "markdown",
      "source": [
        "1.1"
      ],
      "metadata": {
        "id": "W_vqljSF1_dI"
      }
    },
    {
      "cell_type": "code",
      "source": [
        "x = input(\"First number: \")\n",
        "print(x)\n",
        "\n",
        "y = input(\"Second number: \")\n",
        "print(y)"
      ],
      "metadata": {
        "colab": {
          "base_uri": "https://localhost:8080/"
        },
        "id": "A1z15KlB0_vY",
        "outputId": "fe075fd9-3ad8-41fb-ada4-edeca00526ba"
      },
      "execution_count": null,
      "outputs": [
        {
          "output_type": "stream",
          "name": "stdout",
          "text": [
            "First number: 1\n",
            "1\n",
            "Second number: 2\n",
            "2\n"
          ]
        }
      ]
    },
    {
      "cell_type": "markdown",
      "source": [
        "1.2"
      ],
      "metadata": {
        "id": "UI9x4j0L32AV"
      }
    },
    {
      "cell_type": "code",
      "source": [
        "x = int(input(\"First number: \"))\n",
        "y = int(input(\"Second number: \"))\n",
        "\n",
        "print(f\"The summation will be: {x+y}\")\n",
        "\n",
        "print(f\"The multiplication will be: {x*y}\")"
      ],
      "metadata": {
        "colab": {
          "base_uri": "https://localhost:8080/"
        },
        "id": "ji-pgXnH2vy4",
        "outputId": "be21d19d-999a-4b2e-de6d-06d9d08db4a6"
      },
      "execution_count": null,
      "outputs": [
        {
          "output_type": "stream",
          "name": "stdout",
          "text": [
            "First number: 4\n",
            "Second NUmber: 5\n",
            "The summation will be: 9\n",
            "The multiplication will be: 20\n"
          ]
        }
      ]
    },
    {
      "cell_type": "markdown",
      "source": [
        "1.3"
      ],
      "metadata": {
        "id": "LejENIOn362X"
      }
    },
    {
      "cell_type": "code",
      "source": [
        "x = int(input(\"Integer: \"))\n",
        "y = float(input(\"Float: \"))\n",
        "\n",
        "print(f\"Addition of the numbers: {x+y}\")\n",
        "print(f\"Subtraction of the numbers: {x-y}\")"
      ],
      "metadata": {
        "colab": {
          "base_uri": "https://localhost:8080/"
        },
        "id": "l5WGULUn305F",
        "outputId": "60d3859c-5d59-4d06-c03f-d5df8cca351f"
      },
      "execution_count": null,
      "outputs": [
        {
          "output_type": "stream",
          "name": "stdout",
          "text": [
            "Integer: 50\n",
            "Float: 2.9\n",
            "Addition of the numbers: 52.9\n",
            "Subtraction of the numbers: 47.1\n"
          ]
        }
      ]
    },
    {
      "cell_type": "markdown",
      "source": [
        "1.4"
      ],
      "metadata": {
        "id": "QhNrbxg65cS0"
      }
    },
    {
      "cell_type": "code",
      "source": [
        "x = int(input(\"First integer: \"))\n",
        "y = int(input(\"Second integer: \"))\n",
        "\n",
        "x = str(x)\n",
        "y = float(y)\n",
        "\n",
        "y = str(y)\n",
        "\n",
        "print(x+y)"
      ],
      "metadata": {
        "colab": {
          "base_uri": "https://localhost:8080/"
        },
        "id": "LTvU3Rm25dgj",
        "outputId": "77c5a1d1-30b0-4f16-d8ab-c5ba2caf80cc"
      },
      "execution_count": null,
      "outputs": [
        {
          "output_type": "stream",
          "name": "stdout",
          "text": [
            "First integer: 56\n",
            "Second integer: 65\n",
            "5665.0\n"
          ]
        }
      ]
    },
    {
      "cell_type": "markdown",
      "source": [
        "Class Task 2"
      ],
      "metadata": {
        "id": "nx1Md8Sq7BBt"
      }
    },
    {
      "cell_type": "code",
      "source": [
        "x = int(input(\"X: \"))\n",
        "y = int(input(\"Y: \"))\n",
        "\n",
        "z = x**y\n",
        "\n",
        "print(\"X^Y: \", z)"
      ],
      "metadata": {
        "colab": {
          "base_uri": "https://localhost:8080/"
        },
        "id": "raxrKETu7K-N",
        "outputId": "16bd5aa2-799c-4bc5-de2e-8b010e8316b0"
      },
      "execution_count": null,
      "outputs": [
        {
          "output_type": "stream",
          "name": "stdout",
          "text": [
            "X: 5\n",
            "Y: 3\n",
            "X^Y:  125\n"
          ]
        }
      ]
    },
    {
      "cell_type": "markdown",
      "source": [
        "Class Task 3"
      ],
      "metadata": {
        "id": "t5V8fYgv9rI0"
      }
    },
    {
      "cell_type": "code",
      "source": [
        "x = int(input(\"Weight: \"))\n",
        "y = x % 4\n",
        "z = x - y\n",
        "\n",
        "print(z)"
      ],
      "metadata": {
        "colab": {
          "base_uri": "https://localhost:8080/"
        },
        "id": "X7gT0Zx99suU",
        "outputId": "0fd44c6c-4ecf-4928-cd6f-bb81189534be"
      },
      "execution_count": null,
      "outputs": [
        {
          "output_type": "stream",
          "name": "stdout",
          "text": [
            "Weight: 23\n",
            "20\n"
          ]
        }
      ]
    },
    {
      "cell_type": "markdown",
      "source": [
        "Evaluation Task 1"
      ],
      "metadata": {
        "id": "eZn-BGcE_JnV"
      }
    },
    {
      "cell_type": "code",
      "source": [
        "a = int(input(\"First integer: \"))\n",
        "b = int(input(\"Second integer: \"))\n",
        "c = int(input(\"Third integer: \"))\n",
        "d = float(input(\"Float number: \"))\n",
        "\n",
        "x = a**c + (2*b) * (a//2) - d/3\n",
        "x = int(x)\n",
        "\n",
        "print(x)"
      ],
      "metadata": {
        "colab": {
          "base_uri": "https://localhost:8080/"
        },
        "id": "p9cs6znH_LxE",
        "outputId": "3d9ca9a4-946f-4944-93c7-bc48c1b11fcb"
      },
      "execution_count": null,
      "outputs": [
        {
          "output_type": "stream",
          "name": "stdout",
          "text": [
            "First integer: 2\n",
            "Second integer: 6\n",
            "Third integer: 8\n",
            "Float number: 1.3\n",
            "267\n"
          ]
        }
      ]
    },
    {
      "cell_type": "markdown",
      "source": [
        "Evaluation Task 2"
      ],
      "metadata": {
        "id": "8TTcc4KdBTOJ"
      }
    },
    {
      "cell_type": "code",
      "source": [
        "name1 = str(input(\"First name: \"))\n",
        "name2 = str(input(\"Last name: \"))\n",
        "name2 = \"Rahman\"\n",
        "age = int(input(\"Age: \"))\n",
        "age = age - 2\n",
        "cgpa = float(input(\"CGPA: \"))\n",
        "cgpa = cgpa + 0.25\n",
        "\n",
        "print(\"Name: \", name1 + \" \" + name2)\n",
        "print(\"Age: \", age)\n",
        "print(\"CGPA: \", cgpa)"
      ],
      "metadata": {
        "colab": {
          "base_uri": "https://localhost:8080/"
        },
        "id": "pzz9DNRTBUy5",
        "outputId": "88d2d1d9-96f9-4d53-94ba-6ed840d4ca8f"
      },
      "execution_count": null,
      "outputs": [
        {
          "output_type": "stream",
          "name": "stdout",
          "text": [
            "First name: Unjurn\n",
            "Last name: Daniel\n",
            "Age: 20\n",
            "CGPA: 3.7\n",
            "Name:  Unjurn Rahman\n",
            "Age:  18\n",
            "CGPA:  3.95\n"
          ]
        }
      ]
    }
  ]
}